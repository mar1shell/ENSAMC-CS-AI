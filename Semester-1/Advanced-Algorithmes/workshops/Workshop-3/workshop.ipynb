{
 "cells": [
  {
   "cell_type": "markdown",
   "metadata": {},
   "source": [
    "# Exercice 2\n",
    "### 1.Implementation des fonctions:\n",
    "\n",
    "### Partition de Lamouto"
   ]
  },
  {
   "cell_type": "code",
   "execution_count": null,
   "metadata": {},
   "outputs": [],
   "source": [
    "def partitionLamouto(A, left, right):\n",
    "    i = left - 1\n",
    "    j = left\n",
    "\n",
    "    while j < right:\n",
    "        if A[j] <= A[right]:\n",
    "            i += 1\n",
    "            A[i], A[j] = A[j], A[i]\n",
    "        \n",
    "        j += 1\n",
    "\n",
    "    A[i + 1], A[right] = A[right], A[i + 1]\n",
    "    \n",
    "    return i + 1"
   ]
  },
  {
   "cell_type": "markdown",
   "metadata": {},
   "source": [
    "### Partition 2"
   ]
  },
  {
   "cell_type": "code",
   "execution_count": null,
   "metadata": {},
   "outputs": [],
   "source": [
    "def partition2(A, left, right):\n",
    "    pivot = A[right]\n",
    "    indexInf = left\n",
    "    indexSup = right - 1\n",
    "\n",
    "    while indexInf <= indexSup:\n",
    "        if A[indexInf] < pivot:\n",
    "            indInf += 1\n",
    "        else:\n",
    "            A[indexInf], A[indexSup] = A[indexSup], A[indexInf]\n",
    "            indexSup += 1\n",
    "\n",
    "    A[indexSup + 1], A[right] = A[right], A[indexSup + 1]\n",
    "\n",
    "    return indexSup + 1\n"
   ]
  },
  {
   "cell_type": "markdown",
   "metadata": {},
   "source": [
    "### Tri Rapide"
   ]
  },
  {
   "cell_type": "code",
   "execution_count": null,
   "metadata": {},
   "outputs": [],
   "source": [
    "def triRapide(A, left, right):\n",
    "    if left < right:\n",
    "        pivotIndex = partitionLamouto(A, left, right)\n",
    "\n",
    "        triRapide(A, left, pivotIndex - 1)\n",
    "        triRapide(A, pivotIndex + 1, right)"
   ]
  },
  {
   "cell_type": "markdown",
   "metadata": {},
   "source": [
    "### 2.Générer un tableau T aléatoire de longeur n:"
   ]
  },
  {
   "cell_type": "code",
   "execution_count": null,
   "metadata": {},
   "outputs": [],
   "source": [
    "import random\n",
    "\n",
    "n = 10\n",
    "T = [random.randint(-100, 100) for i in n]"
   ]
  },
  {
   "cell_type": "markdown",
   "metadata": {},
   "source": [
    "### 3.Trier ce tableau en order croissant par Tri Rapide:"
   ]
  },
  {
   "cell_type": "code",
   "execution_count": null,
   "metadata": {},
   "outputs": [],
   "source": [
    "print(\"#\" * 20)\n",
    "print(\"Tableau non trié: \", end=\"\")\n",
    "print(T)\n",
    "\n",
    "triRapide(T, 0, len(T) - 1)\n",
    "\n",
    "print(\"Tableau trié: \", end=\"\")\n",
    "print(T)"
   ]
  },
  {
   "cell_type": "markdown",
   "metadata": {},
   "source": [
    "### 4.Refaire phase 2 et 3 plusieurs fois pour des n différents en calculant la complexite en fonction de n:"
   ]
  },
  {
   "cell_type": "code",
   "execution_count": null,
   "metadata": {},
   "outputs": [],
   "source": [
    "import time\n",
    "import math\n",
    "import matplotlib.pyplot as plt\n",
    "\n",
    "# Measure execution time for different input sizes\n",
    "input_sizes = [10, 10000, 30000, 50000, 70000, 100000]\n",
    "execution_times = []\n",
    "\n",
    "for size in input_sizes:\n",
    "    random_list = [random.randint(-100, 100) for i in range(size)]\n",
    "    times = [] # list to store time intervals of execution time so we can average it\n",
    "\n",
    "    for i in range(5):\n",
    "        start_time = time.time()\n",
    "        triRapide(random_list, 0, len(random_list) - 1)\n",
    "        end_time = time.time()\n",
    "        times.append(end_time - start_time)\n",
    "    \n",
    "    averageTime = sum(times) / len(times)\n",
    "    execution_times.append(averageTime)\n",
    "\n",
    "\n",
    "# Calculate execution time / n, execution time / (n log(n)), and execution time / n²\n",
    "execution_time_per_n = [t / n for t, n in zip(execution_times, input_sizes)]\n",
    "execution_time_per_nlogn = [t / (n * math.log(n)) for t, n in zip(execution_times, input_sizes)]\n",
    "execution_time_per_n2 = [t / n ** 2 for t, n in zip(execution_times, input_sizes)]\n",
    "\n",
    "# Plot the results\n",
    "plt.figure(figsize=(10, 6))\n",
    "\n",
    "plt.plot(input_sizes, execution_time_per_n, marker='o', label='Execution Time / n')\n",
    "plt.plot(input_sizes, execution_time_per_nlogn, marker='o', label='Execution Time / (n log(n))')\n",
    "plt.plot(input_sizes, execution_time_per_n2, marker='o', label='Execution Time / n^2')\n",
    "\n",
    "plt.xlabel('Input Size')\n",
    "plt.ylabel('Time (seconds)')\n",
    "plt.title('Quick Sort Execution Time Analysis')\n",
    "plt.legend()\n",
    "plt.grid(True)\n",
    "plt.show()"
   ]
  },
  {
   "cell_type": "markdown",
   "metadata": {},
   "source": [
    "### 5.Refaire les questions 3 et 4 appliquées au tableau A dans les cas suivants :\n",
    "- A est un tableau de taille n trié dans un ordre croissant.\n",
    "- A est un tableau de taille n trié dans un ordre décroissant.\n",
    "- A est un tableau de taille n tel que tous ses éléments ont la même\n",
    "valeur."
   ]
  },
  {
   "cell_type": "code",
   "execution_count": null,
   "metadata": {
    "vscode": {
     "languageId": "julia"
    }
   },
   "outputs": [],
   "source": [
    "# Function to generate arrays in different orders\n",
    "def generate_arrays(n):\n",
    "    ascending = list(range(n))\n",
    "    descending = list(range(n, 0, -1))\n",
    "    same_value = [42] * n\n",
    "    return ascending, descending, same_value\n",
    "\n",
    "# Measure execution time for different input sizes and array orders\n",
    "input_sizes = [10, 10000, 30000, 50000, 70000, 100000]\n",
    "execution_times_ascending = []\n",
    "execution_times_descending = []\n",
    "execution_times_same_value = []\n",
    "\n",
    "for size in input_sizes:\n",
    "    ascending, descending, same_value = generate_arrays(size)\n",
    "    \n",
    "    # Measure time for ascending array\n",
    "    times = []\n",
    "    for i in range(5):\n",
    "        start_time = time.time()\n",
    "        triRapide(ascending, 0, len(ascending) - 1)\n",
    "        end_time = time.time()\n",
    "        times.append(end_time - start_time)\n",
    "    execution_times_ascending.append(sum(times) / len(times))\n",
    "    \n",
    "    # Measure time for descending array\n",
    "    times = []\n",
    "    for i in range(5):\n",
    "        start_time = time.time()\n",
    "        triRapide(descending, 0, len(descending) - 1)\n",
    "        end_time = time.time()\n",
    "        times.append(end_time - start_time)\n",
    "    execution_times_descending.append(sum(times) / len(times))\n",
    "    \n",
    "    # Measure time for same value array\n",
    "    times = []\n",
    "    for i in range(5):\n",
    "        start_time = time.time()\n",
    "        triRapide(same_value, 0, len(same_value) - 1)\n",
    "        end_time = time.time()\n",
    "        times.append(end_time - start_time)\n",
    "    execution_times_same_value.append(sum(times) / len(times))\n",
    "\n",
    "\n",
    "# Ascending order\n",
    "\n",
    "# Calculate execution time / n, execution time / (n log(n)), and execution time / n²\n",
    "execution_time_ascending_per_n = [t / n for t, n in zip(execution_times_ascending, input_sizes)]\n",
    "execution_time_ascending_per_nlogn = [t / (n * math.log(n)) for t, n in zip(execution_times_ascending, input_sizes)]\n",
    "execution_time_ascending_per_n2 = [t / n ** 2 for t, n in zip(execution_times_ascending, input_sizes)]\n",
    "\n",
    "# Plot the results\n",
    "plt.figure(figsize=(10, 6))\n",
    "\n",
    "plt.plot(input_sizes, execution_time_ascending_per_n, marker='o', label='Execution Time / n')\n",
    "plt.plot(input_sizes, execution_time_ascending_per_nlogn, marker='o', label='Execution Time / (n log(n))')\n",
    "plt.plot(input_sizes, execution_time_ascending_per_n2, marker='o', label='Execution Time / n^2')\n",
    "\n",
    "plt.xlabel('Input Size')\n",
    "plt.ylabel('Time (seconds)')\n",
    "plt.title('Quick Sort Execution Time Analysis for Ascending Array')\n",
    "plt.legend()\n",
    "plt.grid(True)\n",
    "plt.show()\n",
    "\n",
    "# Descending order\n",
    "\n",
    "# Calculate execution time / n, execution time / (n log(n)), and execution time / n²\n",
    "execution_time_descending_per_n = [t / n for t, n in zip(execution_times_descending, input_sizes)]\n",
    "execution_time_descending_per_nlogn = [t / (n * math.log(n)) for t, n in zip(execution_times_descending, input_sizes)]\n",
    "execution_time_descending_per_n2 = [t / n ** 2 for t, n in zip(execution_times_descending, input_sizes)]\n",
    "\n",
    "# Plot the results\n",
    "plt.figure(figsize=(10, 6))\n",
    "\n",
    "pplt.plot(input_sizes, execution_time_descending_per_n, marker='o', label='Execution Time / n')\n",
    "plt.plot(input_sizes, execution_time_descending_per_nlogn, marker='o', label='Execution Time / (n log(n))')\n",
    "plt.plot(input_sizes, execution_time_descending_per_n2, marker='o', label='Execution Time / n^2')\n",
    "\n",
    "plt.xlabel('Input Size')\n",
    "plt.ylabel('Time (seconds)')\n",
    "plt.title('Quick Sort Execution Time Analysis for Descending Array')\n",
    "plt.legend()\n",
    "plt.grid(True)\n",
    "plt.show()\n",
    "\n",
    "# Same value\n",
    "\n",
    "# Calculate execution time / n, execution time / (n log(n)), and execution time / n²\n",
    "execution_time_same_value_per_n = [t / n for t, n in zip(execution_times_same_value, input_sizes)]\n",
    "execution_time_same_value_per_nlogn = [t / (n * math.log(n)) for t, n in zip(execution_times_same_value, input_sizes)]\n",
    "execution_time_same_value_per_n2 = [t / n ** 2 for t, n in zip(execution_times_same_value, input_sizes)]\n",
    "\n",
    "# Plot the results\n",
    "plt.figure(figsize=(10, 6))\n",
    "\n",
    "plt.plot(input_sizes, execution_time__same_value_per_n, marker='o', label='Execution Time / n')\n",
    "plt.plot(input_sizes, execution_time_same_value_per_nlogn, marker='o', label='Execution Time / (n log(n))')\n",
    "plt.plot(input_sizes, execution_time_same_value_per_n2, marker='o', label='Execution Time / n^2')\n",
    "\n",
    "plt.xlabel('Input Size')\n",
    "plt.ylabel('Time (seconds)')\n",
    "plt.title('Quick Sort Execution Time Analysis for Same Value Array')\n",
    "plt.legend()\n",
    "plt.grid(True)\n",
    "plt.show()"
   ]
  },
  {
   "cell_type": "markdown",
   "metadata": {},
   "source": [
    "### 6.Faire une analyse et conclusion après avoir comparé les résultats obtenus."
   ]
  },
  {
   "cell_type": "markdown",
   "metadata": {},
   "source": [
    "Après avoir comparé les résultats obtenus pour les différents types de tableaux (trié en ordre croissant, trié en ordre décroissant, et avec des valeurs identiques), nous pouvons tirer les conclusions suivantes :\n",
    "\n",
    "1. **Tableau trié en ordre croissant** :\n",
    "\t- Le tri rapide fonctionne de manière sous-optimale lorsque le tableau est déjà trié en ordre croissant. Le temps d'exécution est proche de O(n²), ce qui est attendu pour le pire cas du tri rapide. Cela est dû au fait que le pivot choisi est toujours le plus grand élément, ce qui entraîne une partition déséquilibrée.\n",
    "\n",
    "2. **Tableau trié en ordre décroissant** :\n",
    "\t- Le tri rapide fonctionne de manière sous-optimale lorsque le tableau est trié en ordre décroissant. Le temps d'exécution est proche de O(n²), ce qui est attendu pour le pire cas du tri rapide. Cela est dû au fait que le pivot choisi est toujours le plus petit élément, ce qui entraîne une partition déséquilibrée.\n",
    "\n",
    "3. **Tableau avec des valeurs identiques** :\n",
    "\t- Le tri rapide fonctionne de manière sous-optimale lorsque tous les éléments du tableau ont la même valeur. Le temps d'exécution est également proche de O(n²) dans ce cas. Cela est dû au fait que chaque partition ne réduit pas la taille du problème de manière significative.\n",
    "\n",
    "En conclusion, le tri rapide est très efficace pour les tableaux aléatoires, mais il peut être inefficace pour les tableaux triés en ordre croissant, en ordre décroissant ou avec des valeurs identiques. Pour ces cas, il peut être utile de choisir un pivot de manière plus intelligente (par exemple, en utilisant la médiane de trois) ou d'utiliser un autre algorithme de tri comme le tri par fusion."
   ]
  },
  {
   "cell_type": "markdown",
   "metadata": {},
   "source": [
    "# Exercice 3:\n",
    "## Faire une recherche sur l’algorithme sélection rapide (Quick select), puis :\n",
    "### 1.Définir en quelques mots cet algorithme (par vos mots et expressions):"
   ]
  },
  {
   "cell_type": "markdown",
   "metadata": {},
   "source": [
    "---\n",
    "#### Définition de l'algorithme **Quickselect**\n",
    "\n",
    "L'algorithme **Quickselect** est une méthode efficace pour trouver le \\(k\\)-ème plus petit élément dans un tableau non trié sans avoir besoin de le trier complètement. Il repose sur des principes similaires à ceux de l'algorithme Quicksort, mais cible uniquement la partie contenant l'élément recherché.\n",
    "\n",
    "#### Étapes principales de Quickselect :\n",
    "1. **Choix du pivot** : Sélection d'un élément comme pivot (généralement aléatoire ou basé sur une position spécifique).\n",
    "2. **Partitionnement** : Réorganisation des éléments pour que ceux plus petits que le pivot soient placés à gauche, et ceux plus grands à droite.\n",
    "3. **Recherche ciblée** :\n",
    "   - Si le pivot est positionné à l'indice \\(k-1\\), c'est l'élément recherché.\n",
    "   - Sinon, l'algorithme continue dans la moitié pertinente (gauche ou droite).\n",
    "\n",
    "#### Complexité :\n",
    "- **Temps moyen** : $O(n)$, grâce à une réduction efficace de la taille du problème à chaque itération.\n",
    "- **Pire cas** : $O(n^2)$, comme dans Quicksort, en cas de mauvais choix systématique du pivot (exemple : tableau déjà trié).\n",
    "\n",
    "#### Applications :\n",
    "\n",
    "Quickselect est particulièrement utile pour des problèmes où seul un petit sous-ensemble d'éléments est requis, comme la recherche de médianes ou de percentiles, sans nécessiter un tri complet du tableau.\n",
    "\n",
    "---"
   ]
  },
  {
   "cell_type": "markdown",
   "metadata": {},
   "source": [
    "### 2.Ecrire une fonction python QuickSelect qui implémente l’algorithme en question."
   ]
  },
  {
   "cell_type": "code",
   "execution_count": null,
   "metadata": {},
   "outputs": [],
   "source": [
    "def quickSelect(A, left, right, k):\n",
    "    if left == right:\n",
    "        return A[left]\n",
    "\n",
    "    pivotIndex = partitionLamouto(A, left, right)\n",
    "\n",
    "    if k == pivotIndex:\n",
    "        return A[k]\n",
    "    elif k < pivotIndex:\n",
    "        return quickSelect(A, left, pivotIndex - 1, k)\n",
    "    else:\n",
    "        return quickSelect(A, pivotIndex + 1, right, k)"
   ]
  },
  {
   "cell_type": "markdown",
   "metadata": {},
   "source": [
    "### 3.Appliquer cet algorithme sur un tableau de taille n, puis en variant le plus possible la taille n, calculer la complexité de QuickSelect."
   ]
  },
  {
   "cell_type": "code",
   "execution_count": null,
   "metadata": {},
   "outputs": [],
   "source": [
    "import random\n",
    "import matplotlib.pyplot as plt\n",
    "import math\n",
    "import time\n",
    "\n",
    "\n",
    "# Measure execution time for different input sizes\n",
    "input_sizes = [10, 10000, 30000, 50000, 70000, 100000]\n",
    "execution_times = []\n",
    "\n",
    "for size in input_sizes:\n",
    "    random_list = [random.randint(-100, 100) for _ in range(size)]\n",
    "    k = size // 2  # Find the median for simplicity\n",
    "    times = []  # list to store time intervals of execution time so we can average it\n",
    "\n",
    "    for i in range(5):\n",
    "        start_time = time.time()\n",
    "        quickSelect(random_list, 0, len(random_list) - 1, k)\n",
    "        end_time = time.time()\n",
    "        times.append(end_time - start_time)\n",
    "    \n",
    "    average_time = sum(times) / len(times)\n",
    "    execution_times.append(average_time)\n",
    "\n",
    "# Calculate execution time / n, execution time / (n log(n)), and execution time / n²\n",
    "execution_time_per_n = [t / n for t, n in zip(execution_times, input_sizes)]\n",
    "execution_time_per_nlogn = [t / (n * math.log(n)) for t, n in zip(execution_times, input_sizes)]\n",
    "execution_time_per_n2 = [t / n ** 2 for t, n in zip(execution_times, input_sizes)]\n",
    "\n",
    "# Plot the results\n",
    "plt.figure(figsize=(10, 6))\n",
    "\n",
    "plt.plot(input_sizes, execution_time_per_n, marker='o', label='Execution Time / n')\n",
    "plt.plot(input_sizes, execution_time_per_nlogn, marker='o', label='Execution Time / (n log(n))')\n",
    "plt.plot(input_sizes, execution_time_per_n2, marker='o', label='Execution Time / n^2')\n",
    "\n",
    "plt.xlabel('Input Size')\n",
    "plt.ylabel('Time (seconds)')\n",
    "plt.title('Quick Select Execution Time Analysis')\n",
    "plt.legend()\n",
    "plt.grid(True)\n",
    "plt.show()"
   ]
  }
 ],
 "metadata": {
  "kernelspec": {
   "display_name": "Python 3",
   "language": "python",
   "name": "python3"
  },
  "language_info": {
   "name": "python",
   "version": "3.12.3"
  }
 },
 "nbformat": 4,
 "nbformat_minor": 2
}
