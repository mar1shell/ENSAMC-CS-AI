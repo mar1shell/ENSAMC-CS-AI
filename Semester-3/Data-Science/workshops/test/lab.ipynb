{
 "cells": [
  {
   "cell_type": "markdown",
   "id": "e0c07c43",
   "metadata": {
    "vscode": {
     "languageId": "plaintext"
    }
   },
   "source": [
    "# LAB& - EL-HAMDAOUI MAROUANE - IAGI CI-2\n",
    "## PARTIE A : Environnement et Utilitaires\n"
   ]
  },
  {
   "cell_type": "code",
   "execution_count": 36,
   "id": "3272dc74",
   "metadata": {},
   "outputs": [],
   "source": [
    "import random\n",
    "\n",
    "def init_grille(n=3, p=0.5, seed=0):\n",
    "    \"\"\"\n",
    "    Initialise une grille n×n avec p% de cases sales.\n",
    "    Args:\n",
    "    n: Taille de la grille\n",
    "    p: Probabilité qu'une case soit sale (0.0 à 1.0)\n",
    "    seed: Graine aléatoire pour la reproductibilité\n",
    "    Returns:\n",
    "    Liste de listes représentant la grille\n",
    "    \"\"\"\n",
    "    rnd = random.Random(seed)\n",
    "\n",
    "    return [[1 if rnd.random() < p else 0 for _ in range(n)] for _ in range(n)]\n",
    "def tout_propre(G):\n",
    "    \"\"\"Vérifie si toutes les cases sont propres.\"\"\"\n",
    "    return all(c == 0 for row in G for c in row)\n",
    "\n",
    "def in_bounds(i, j, n):\n",
    "    \"\"\"Vérifie si la position (i,j) est dans la grille n×n.\"\"\"\n",
    "    return 0 <= i < n and 0 <= j < n\n",
    "\n",
    "def print_grille(G, pos=None, label=\"\"):\n",
    "    \"\"\"\n",
    "    Affiche la grille.\n",
    "    Args:\n",
    "    G: La grille à afficher\n",
    "    pos: Position du robot (i, j) ou None\n",
    "    label: Titre à afficher\n",
    "    \"\"\"\n",
    "    if label:\n",
    "        print(label)\n",
    "    for i, row in enumerate(G):\n",
    "        line = []\n",
    "        \n",
    "        for j, c in enumerate(row):\n",
    "            if pos is not None and (i, j) == pos:\n",
    "                line.append(\"R\")\n",
    "            else:\n",
    "                line.append(str(c))\n",
    "        print(\" \".join(line))\n",
    "    print()"
   ]
  },
  {
   "cell_type": "markdown",
   "id": "b7bcd712",
   "metadata": {},
   "source": [
    "- Créez une grille 3×3 avec 60% de cases sales\n",
    "- Choisissez une position initiale (x, y) au hasard pour le robot\n",
    "- Affichez la grille avec print_grille"
   ]
  },
  {
   "cell_type": "code",
   "execution_count": 37,
   "id": "15defbdb",
   "metadata": {},
   "outputs": [
    {
     "name": "stdout",
     "output_type": "stream",
     "text": [
      "Grille initiale (R = robot) :\n",
      "0 1 1\n",
      "0 1 0\n",
      "0 0 R\n",
      "\n"
     ]
    }
   ],
   "source": [
    "# TODO: Initialisez les paramètres\n",
    "n = 3   # Taille de la grille\n",
    "p = 0.6 # % de saleté\n",
    "\n",
    "seed = 69# Pour la reproductibilité\n",
    "# TODO: Créez la grille\n",
    "G = init_grille(n=n, p=p, seed=seed)\n",
    "# TODO: Position initiale aléatoire du robot\n",
    "x, y = random.Random(seed).randint(0, n-1), random.Random(seed).randint(0, n-1)\n",
    "# TODO: Affichez la grille\n",
    "print_grille(G, (x, y), label=\"Grille initiale (R = robot) :\")"
   ]
  },
  {
   "cell_type": "markdown",
   "id": "95afc2bd",
   "metadata": {},
   "source": [
    "- 1.1 Quelle est la grille générée avec seed=1 ? Dessinez-la.\n",
    "- 1.2 Combien de cases sales y a-t-il dans cette grille ?\n",
    "- 1.3 Quelle est la position initiale du robot ?\n",
    "- 1.4 Testez avec seed=2 et seed=3. Les grilles changent-elles ? Pourquoi utilise-t-on une graine\n",
    "(seed) ?\n",
    "- 1.5 Que se passe-t-il si vous mettez p=1.0 ? Et p=0.0 ?"
   ]
  },
  {
   "cell_type": "code",
   "execution_count": 38,
   "id": "b2c491a4",
   "metadata": {},
   "outputs": [
    {
     "name": "stdout",
     "output_type": "stream",
     "text": [
      "Grille générée avec seed 1 :\n",
      "1 0 0\n",
      "1 1 1\n",
      "0 0 1\n",
      "\n",
      "Nombre de cases sales dans la grille générée avec seed 1 : 5\n",
      "Position initiale du robot avec seed 1 : (0, 0)\n",
      "Grille générée avec seed 2 :\n",
      "0 0 1\n",
      "1 0 0\n",
      "0 1 0\n",
      "\n",
      "Nombre de cases sales dans la grille générée avec seed 2 : 3\n",
      "Position initiale du robot avec seed 2 : (0, 0)\n",
      "Grille générée avec seed 3 :\n",
      "1 1 1\n",
      "0 0 1\n",
      "1 0 1\n",
      "\n",
      "Nombre de cases sales dans la grille générée avec seed 3 : 6\n",
      "Position initiale du robot avec seed 3 : (0, 0)\n"
     ]
    }
   ],
   "source": [
    "# Grille générée avec seed 1\n",
    "seed = 1\n",
    "G = init_grille(n=n, p=p, seed=seed)\n",
    "\n",
    "print_grille(G, label=\"Grille générée avec seed 1 :\")\n",
    "\n",
    "#combien de cases sales\n",
    "nb_sales = sum(c == 1 for row in G for c in row)\n",
    "print(f\"Nombre de cases sales dans la grille générée avec seed 1 : {nb_sales}\")\n",
    "\n",
    "# Quelle est la position initiale du robot\n",
    "x, y = random.Random(seed).randint(0, n-1), random.Random(seed).randint(0, n-1)\n",
    "print(f\"Position initiale du robot avec seed 1 : ({x}, {y})\")\n",
    "\n",
    "# Testez avec seed=2 et seed=3. Les grilles changent-elles ? Pourquoi utilise-t-on une graine (seed) ?\n",
    "for test_seed in [2, 3]:\n",
    "    G = init_grille(n=n, p=p, seed=test_seed)\n",
    "    print_grille(G, label=f\"Grille générée avec seed {test_seed} :\")\n",
    "    nb_sales = sum(c == 1 for row in G for c in row)\n",
    "    print(f\"Nombre de cases sales dans la grille générée avec seed {test_seed} : {nb_sales}\")\n",
    "    x, y = random.Random(test_seed).randint(0, n-1), random.Random(test_seed).randint(0, n-1)\n",
    "    print(f\"Position initiale du robot avec seed {test_seed} : ({x}, {y})\")\n",
    "\n",
    "# La graine (seed) permet de reproduire les mêmes résultats aléatoires à chaque exécution du code.\n"
   ]
  },
  {
   "cell_type": "markdown",
   "id": "19a797fe",
   "metadata": {},
   "source": [
    "## PARTIE B : Règles Réflexes\n",
    "### Principe de l'agent réflexe : L'agent suit des règles simples"
   ]
  },
  {
   "cell_type": "code",
   "execution_count": 39,
   "id": "5af21e32",
   "metadata": {},
   "outputs": [],
   "source": [
    "# Cycle de déplacement\n",
    "cycle = [\"DROITE\", \"BAS\", \"GAUCHE\", \"HAUT\"]\n",
    "\n",
    "def choisir_action(G, x, y, step):\n",
    "    # Règle 1 : Aspirer si la case est sale\n",
    "    if G[x][y] == 1:\n",
    "        return \"ASPIRER\"\n",
    "    # Règle 2 : Suivre le cycle de déplacement\n",
    "    for t in range(4):\n",
    "        a = cycle[(step + t) % 4]\n",
    "        nx, ny = x, y\n",
    "        \n",
    "        if a == \"HAUT\":\n",
    "            nx -= 1\n",
    "        if a == \"BAS\":\n",
    "            nx += 1\n",
    "        if a == \"GAUCHE\":\n",
    "            ny -= 1\n",
    "        if a == \"DROITE\":\n",
    "            ny += 1\n",
    "    \n",
    "        # Vérifier si la nouvelle position est valide\n",
    "        if in_bounds(nx, ny, len(G)):\n",
    "            return a\n",
    "    \n",
    "    return \"RIEN\""
   ]
  },
  {
   "cell_type": "markdown",
   "id": "87d2ed68",
   "metadata": {},
   "source": [
    "Appliquer une Action\n",
    "Complétez la fonction appliquer_action qui :\n",
    "• Si l'action est \"ASPIRER\" → met la case courante à 0 (propre)\n",
    "• Si l'action est un déplacement (\"HAUT\", \"BAS\", etc.) → déplace le robot (si possible)\n",
    "• Retourne la nouvelle position (x, y) et l'action effectuée"
   ]
  },
  {
   "cell_type": "code",
   "execution_count": 40,
   "id": "9e8b2daf",
   "metadata": {},
   "outputs": [],
   "source": [
    "def appliquer_action(G, x, y, action):\n",
    "    # TODO: Si l'action est ASPIRER\n",
    "    if action == \"ASPIRER\":\n",
    "        # Nettoyez la case courante\n",
    "        G[x][y] = 0\n",
    "        return x, y, action\n",
    "    # TODO: Si l'action est HAUT et que c'est possible\n",
    "    if action == \"HAUT\" and in_bounds(x-1, y, len(G)):\n",
    "        return x-1, y, action\n",
    "    # TODO: Complétez pour BAS\n",
    "    if action == \"BAS\" and in_bounds(x+1, y, len(G)):\n",
    "        return x+1, y, action\n",
    "    # TODO: Complétez pour GAUCHE   \n",
    "    if action == \"GAUCHE\" and in_bounds(x, y-1, len(G)):\n",
    "        return x, y-1, action\n",
    "    # TODO: Complétez pour DROITE\n",
    "    if action == \"DROITE\" and in_bounds(x, y+1, len(G)):\n",
    "        return x, y+1, action\n",
    "    # Si aucune action n'est possible\n",
    "    return x, y, \"RIEN\""
   ]
  },
  {
   "cell_type": "markdown",
   "id": "71f00f73",
   "metadata": {},
   "source": [
    "- 2.1 Que fait exactement G[x][y] = 0 ?\n",
    "- 2.2 Pourquoi vérifie-t-on in_bounds avant de se déplacer ?\n",
    "- 2.3 Que se passe-t-il si le robot est dans un coin et essaie d'aller vers le bord ?\n",
    "- 2.4 Testez manuellement : Si le robot est en (0, 0) et fait \"HAUT\", quelle est la nouvelle position"
   ]
  },
  {
   "cell_type": "code",
   "execution_count": 41,
   "id": "91841052",
   "metadata": {},
   "outputs": [
    {
     "data": {
      "text/plain": [
       "' Si le robot est en (0, 0) et fait \"HAUT\", la nouvelle position restera (0, 0) car le déplacement vers le haut n\\'est pas possible (hors limites de la grille). '"
      ]
     },
     "execution_count": 41,
     "metadata": {},
     "output_type": "execute_result"
    }
   ],
   "source": [
    "# Que fait exactement G[x][y] = 0 ?\n",
    "\"\"\" Cette instruction met la case à la position (x, y) de la grille G à 0, ce qui signifie que la case est maintenant propre (non sale). \"\"\"\n",
    "\n",
    "# Pourquoi vérifie-t-on in_bounds avant de se déplacer ?\n",
    "\"\"\" La vérification in_bounds garantit que le robot ne tente pas de se déplacer en dehors des limites de la grille. Cela évite les erreurs d'indexation et assure que le robot reste toujours dans une position valide à l'intérieur de la grille. \"\"\"\n",
    "\n",
    "# Que se passe-t-il si le robot est dans un coin et essaie d'aller vers le bord ?\n",
    "\"\"\" Si le robot est dans un coin et essaie de se déplacer vers le bord (par exemple, en haut à gauche et essaie d'aller \"HAUT\" ou \"GAUCHE\"), la vérification in_bounds empêchera le déplacement, et le robot restera à sa position actuelle. \"\"\"\n",
    "\n",
    "# Testez manuellement : Si le robot est en (0, 0) et fait \"HAUT\", quelle est la nouvelle position\n",
    "\"\"\" Si le robot est en (0, 0) et fait \"HAUT\", la nouvelle position restera (0, 0) car le déplacement vers le haut n'est pas possible (hors limites de la grille). \"\"\""
   ]
  },
  {
   "cell_type": "markdown",
   "id": "4f0706be",
   "metadata": {},
   "source": [
    "## PARTIE C : Boucle d'Exécution et Performance\n",
    "On va maintenant faire tourner le robot en boucle jusqu'à ce que :\n",
    "- Soit toute la grille soit propre\n",
    "- Soit on atteigne un nombre maximum d'actions (30 dans notre cas)"
   ]
  },
  {
   "cell_type": "code",
   "execution_count": 42,
   "id": "06dd9085",
   "metadata": {},
   "outputs": [
    {
     "name": "stdout",
     "output_type": "stream",
     "text": [
      "Grille finale :\n",
      "0 0 1\n",
      "0 R 1\n",
      "0 0 1\n",
      "\n",
      "{'cases_propres': 6, 'sur': 9, 'taux_%': 66.7, 'nb_actions': 30}\n",
      "\n",
      "Actions effectuées : ['DROITE', 'BAS', 'GAUCHE', 'ASPIRER', 'DROITE', 'GAUCHE', 'HAUT', 'HAUT', 'ASPIRER', 'BAS', 'HAUT', 'DROITE', 'ASPIRER', 'BAS', 'GAUCHE', 'HAUT', 'DROITE', 'BAS', 'GAUCHE', 'HAUT', 'DROITE', 'BAS', 'GAUCHE', 'HAUT', 'DROITE', 'BAS', 'GAUCHE', 'HAUT', 'DROITE', 'BAS']\n"
     ]
    }
   ],
   "source": [
    "# Paramètres de simulation\n",
    "max_steps = 30\n",
    "step = 0\n",
    "actions = []\n",
    "seed = 10\n",
    "x, y = random.randint(0, n-1), random.randint(0, n-1)\n",
    "\n",
    "\n",
    "# Boucle d'exécution\n",
    "while not tout_propre(G) and step < max_steps:\n",
    "    # Le robot choisit une action\n",
    "    a = choisir_action(G, x, y, step)\n",
    "    # Le robot applique l'action\n",
    "    x, y, a_eff = appliquer_action(G, x, y, a)\n",
    "    # Enregistrer l'action\n",
    "    actions.append(a_eff)\n",
    "    step += 1\n",
    "\n",
    "# Calcul de la performance\n",
    "propres = sum(c == 0 for row in G for c in row)\n",
    "taux = (100.0 * propres) / (n ** 2) \n",
    "# Affichage des résultats\n",
    "print_grille(G, (x, y), label=\"Grille finale :\")\n",
    "print({\n",
    "\"cases_propres\": propres,\n",
    "\"sur\": n*n,\n",
    "\"taux_%\": round(taux, 1),\n",
    "\"nb_actions\": len(actions)\n",
    "})\n",
    "print(\"\\nActions effectuées :\", actions)"
   ]
  }
 ],
 "metadata": {
  "kernelspec": {
   "display_name": ".venv",
   "language": "python",
   "name": "python3"
  },
  "language_info": {
   "codemirror_mode": {
    "name": "ipython",
    "version": 3
   },
   "file_extension": ".py",
   "mimetype": "text/x-python",
   "name": "python",
   "nbconvert_exporter": "python",
   "pygments_lexer": "ipython3",
   "version": "3.12.3"
  }
 },
 "nbformat": 4,
 "nbformat_minor": 5
}
