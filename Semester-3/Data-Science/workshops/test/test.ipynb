{
 "cells": [
  {
   "cell_type": "code",
   "execution_count": null,
   "id": "7284c0b8",
   "metadata": {},
   "outputs": [
    {
     "name": "stdout",
     "output_type": "stream",
     "text": [
      "<class 'pandas.core.frame.DataFrame'>\n",
      "RangeIndex: 45716 entries, 0 to 45715\n",
      "Data columns (total 10 columns):\n",
      " #   Column       Non-Null Count  Dtype  \n",
      "---  ------       --------------  -----  \n",
      " 0   name         45716 non-null  object \n",
      " 1   id           45716 non-null  int64  \n",
      " 2   nametype     45716 non-null  object \n",
      " 3   recclass     45716 non-null  object \n",
      " 4   mass (g)     45585 non-null  float64\n",
      " 5   fall         45716 non-null  object \n",
      " 6   year         45425 non-null  object \n",
      " 7   reclat       38401 non-null  float64\n",
      " 8   reclong      38401 non-null  float64\n",
      " 9   GeoLocation  38401 non-null  object \n",
      "dtypes: float64(3), int64(1), object(6)\n",
      "memory usage: 3.5+ MB\n"
     ]
    },
    {
     "data": {
      "text/plain": [
       "name           45716\n",
       "id             45716\n",
       "nametype           2\n",
       "recclass         466\n",
       "mass (g)       12576\n",
       "fall               2\n",
       "year             266\n",
       "reclat         12738\n",
       "reclong        14640\n",
       "GeoLocation    17100\n",
       "dtype: int64"
      ]
     },
     "execution_count": 34,
     "metadata": {},
     "output_type": "execute_result"
    }
   ],
   "source": [
    "import pandas as pd;\n",
    "\n",
    "df = pd.read_csv('../datasets/Meteorite_Landings.csv')\n",
    "\n",
    "df.info()\n"
   ]
  },
  {
   "cell_type": "code",
   "execution_count": 55,
   "id": "f2872c5a",
   "metadata": {},
   "outputs": [],
   "source": [
    "taxis  = pd.read_csv('../datasets/2019_Yellow_Taxi_Trip_Data.csv')\n",
    "\n",
    "\n",
    "taxis.rename(columns={'tpep_dropoff_datetime': 'dropoff'}, inplace=True)\n"
   ]
  },
  {
   "cell_type": "code",
   "execution_count": 59,
   "id": "564c54e4",
   "metadata": {},
   "outputs": [
    {
     "data": {
      "text/plain": [
       "vendorid                          int64\n",
       "tpep_pickup_datetime             object\n",
       "dropoff                  datetime64[ns]\n",
       "passenger_count                   int64\n",
       "trip_distance                   float64\n",
       "ratecodeid                        int64\n",
       "store_and_fwd_flag               object\n",
       "pulocationid                      int64\n",
       "dolocationid                      int64\n",
       "payment_type                      int64\n",
       "fare_amount                     float64\n",
       "extra                           float64\n",
       "mta_tax                         float64\n",
       "tip_amount                      float64\n",
       "tolls_amount                    float64\n",
       "improvement_surcharge           float64\n",
       "total_amount                    float64\n",
       "congestion_surcharge            float64\n",
       "dtype: object"
      ]
     },
     "execution_count": 59,
     "metadata": {},
     "output_type": "execute_result"
    }
   ],
   "source": [
    "taxis.dropoff = pd.to_datetime(taxis.dropoff)\n",
    "\n",
    "taxis.dtypes"
   ]
  }
 ],
 "metadata": {
  "kernelspec": {
   "display_name": ".venv",
   "language": "python",
   "name": "python3"
  },
  "language_info": {
   "codemirror_mode": {
    "name": "ipython",
    "version": 3
   },
   "file_extension": ".py",
   "mimetype": "text/x-python",
   "name": "python",
   "nbconvert_exporter": "python",
   "pygments_lexer": "ipython3",
   "version": "3.12.3"
  }
 },
 "nbformat": 4,
 "nbformat_minor": 5
}
