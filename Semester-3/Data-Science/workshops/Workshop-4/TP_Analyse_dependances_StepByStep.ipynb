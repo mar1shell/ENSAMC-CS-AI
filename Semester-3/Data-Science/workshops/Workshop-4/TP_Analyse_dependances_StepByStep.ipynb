{
 "cells": [
  {
   "cell_type": "markdown",
   "id": "210bf797",
   "metadata": {},
   "source": [
    "#  **TP : Analyse des dépondances conjointes**\n"
   ]
  },
  {
   "cell_type": "markdown",
   "id": "a79699c9",
   "metadata": {},
   "source": [
    "Ce travail pratique se déroule en deux étapes complémentaires :\n",
    "\n",
    "1. Mise en situation guidée : vous appliquerez, à travers un exemple détaillé, les principales techniques d’analyse de dépendance conjointe afin de vous familiariser avec leur logique et leur mise en œuvre.\n",
    "\n",
    "2. Étude de cas appliquée : vous serez ensuite amenés à traiter un problème plus complexe portant sur l’analyse de logs de sécurité, relatifs aux tentatives de connexion au système d’information d’une entreprise. L’objectif est de mobiliser les méthodes vues en première partie pour en extraire des informations pertinentes et évaluer d’éventuelles dépendances significatives."
   ]
  },
  {
   "cell_type": "markdown",
   "id": "516c39cd",
   "metadata": {},
   "source": [
    "# **Première partie: Travail à faire**"
   ]
  },
  {
   "cell_type": "markdown",
   "id": "0132f1be",
   "metadata": {},
   "source": [
    "Cette première partie montre étape par étape comment préparer et analyser un dataset pour appliquer une **régression linéaire**.\n",
    "\n",
    "Nous allons :\n",
    "- Créer un dataset réaliste (attaques, protocoles, etc.)\n",
    "- Encodage des variables qualitatives\n",
    "- Calculer des corrélations numériques\n",
    "- Faire une analyse de la variance (ANOVA) avec Boxplot\n",
    "- Faire un test du Khi-deux\n",
    "- Construire un modèle de régression linéaire\n",
    "- Interpréter les coefficients et visualiser les résultats"
   ]
  },
  {
   "cell_type": "code",
   "execution_count": 1,
   "id": "73734646",
   "metadata": {},
   "outputs": [
    {
     "ename": "ModuleNotFoundError",
     "evalue": "No module named 'sklearn'",
     "output_type": "error",
     "traceback": [
      "\u001b[31m---------------------------------------------------------------------------\u001b[39m",
      "\u001b[31mModuleNotFoundError\u001b[39m                       Traceback (most recent call last)",
      "\u001b[36mCell\u001b[39m\u001b[36m \u001b[39m\u001b[32mIn[1]\u001b[39m\u001b[32m, line 6\u001b[39m\n\u001b[32m      3\u001b[39m \u001b[38;5;28;01mimport\u001b[39;00m\u001b[38;5;250m \u001b[39m\u001b[34;01mmatplotlib\u001b[39;00m\u001b[34;01m.\u001b[39;00m\u001b[34;01mpyplot\u001b[39;00m\u001b[38;5;250m \u001b[39m\u001b[38;5;28;01mas\u001b[39;00m\u001b[38;5;250m \u001b[39m\u001b[34;01mplt\u001b[39;00m\n\u001b[32m      4\u001b[39m \u001b[38;5;28;01mimport\u001b[39;00m\u001b[38;5;250m \u001b[39m\u001b[34;01mseaborn\u001b[39;00m\u001b[38;5;250m \u001b[39m\u001b[38;5;28;01mas\u001b[39;00m\u001b[38;5;250m \u001b[39m\u001b[34;01msns\u001b[39;00m\n\u001b[32m----> \u001b[39m\u001b[32m6\u001b[39m \u001b[38;5;28;01mfrom\u001b[39;00m\u001b[38;5;250m \u001b[39m\u001b[34;01msklearn\u001b[39;00m\u001b[34;01m.\u001b[39;00m\u001b[34;01mcompose\u001b[39;00m\u001b[38;5;250m \u001b[39m\u001b[38;5;28;01mimport\u001b[39;00m ColumnTransformer\n\u001b[32m      7\u001b[39m \u001b[38;5;28;01mfrom\u001b[39;00m\u001b[38;5;250m \u001b[39m\u001b[34;01msklearn\u001b[39;00m\u001b[34;01m.\u001b[39;00m\u001b[34;01mpreprocessing\u001b[39;00m\u001b[38;5;250m \u001b[39m\u001b[38;5;28;01mimport\u001b[39;00m OneHotEncoder, StandardScaler\n\u001b[32m      8\u001b[39m \u001b[38;5;28;01mfrom\u001b[39;00m\u001b[38;5;250m \u001b[39m\u001b[34;01msklearn\u001b[39;00m\u001b[34;01m.\u001b[39;00m\u001b[34;01mpipeline\u001b[39;00m\u001b[38;5;250m \u001b[39m\u001b[38;5;28;01mimport\u001b[39;00m Pipeline\n",
      "\u001b[31mModuleNotFoundError\u001b[39m: No module named 'sklearn'"
     ]
    }
   ],
   "source": [
    "import pandas as pd\n",
    "import numpy as np\n",
    "import matplotlib.pyplot as plt\n",
    "import seaborn as sns\n",
    "\n",
    "from sklearn.compose import ColumnTransformer\n",
    "from sklearn.preprocessing import OneHotEncoder, StandardScaler\n",
    "from sklearn.pipeline import Pipeline\n",
    "from sklearn.linear_model import LinearRegression\n",
    "from sklearn.metrics import r2_score, mean_squared_error\n",
    "from scipy.stats import chi2_contingency, f_oneway"
   ]
  },
  {
   "cell_type": "markdown",
   "id": "c0cb1b75",
   "metadata": {},
   "source": [
    "## Étape 1 : Création du dataset"
   ]
  },
  {
   "cell_type": "code",
   "execution_count": null,
   "id": "b75a44ac",
   "metadata": {},
   "outputs": [],
   "source": [
    "data = {\n",
    "    \"Attack_Type\": [\n",
    "        \"Phishing\",\"Malware\",\"DDoS\",\"PortScan\",\"Ransomware\",\"Phishing\",\n",
    "        \"Malware\",\"SQLInjection\",\"DDoS\",\"Phishing\",\"Ransomware\",\"PortScan\"\n",
    "    ],\n",
    "    \"Protocol\": [\n",
    "        \"TCP\",\"UDP\",\"ICMP\",\"TCP\",\"TCP\",\"UDP\",\n",
    "        \"UDP\",\"TCP\",\"ICMP\",\"TCP\",\"UDP\",\"TCP\"\n",
    "    ],\n",
    "    \"Source_Country\": [\n",
    "        \"US\",\"RU\",\"CN\",\"US\",\"IR\",\"FR\",\n",
    "        \"RU\",\"IN\",\"CN\",\"BR\",\"RU\",\"US\"\n",
    "    ],\n",
    "    \"Target_OS\": [\n",
    "        \"Windows\",\"Linux\",\"Windows\",\"Linux\",\"Windows\",\"MacOS\",\n",
    "        \"Linux\",\"Windows\",\"Linux\",\"Windows\",\"MacOS\",\"Linux\"\n",
    "    ],\n",
    "    \"Packets\": [120, 300, 5000, 150, 400, 220, 330, 800, 7000, 130, 600, 200],\n",
    "    \"Bytes\":   [24000, 60000, 1200000, 45000, 80000, 50000, 70000, 120000, 2000000, 30000, 90000, 40000],\n",
    "    \"Duration\": [15, 30, 120, 10, 50, 25, 35, 60, 200, 20, 90, 15],\n",
    "    \"Severity\": [\n",
    "        \"High\",\"Medium\",\"High\",\"Low\",\"Critical\",\"Medium\",\n",
    "        \"Medium\",\"High\",\"Critical\",\"Low\",\"Critical\",\"Low\"\n",
    "    ],\n",
    "    \"Response_Time\": [45, 60, 200, 30, 180, 50, 70, 120, 300, 40, 220, 35]\n",
    "}\n",
    "\n",
    "df = pd.DataFrame(data)\n",
    "df.head()"
   ]
  },
  {
   "cell_type": "markdown",
   "id": "72c25bbf",
   "metadata": {},
   "source": [
    "## Étape 2 : Corrélations numériques"
   ]
  },
  {
   "cell_type": "code",
   "execution_count": null,
   "id": "1928c163",
   "metadata": {},
   "outputs": [],
   "source": [
    "corr = df[[\"Packets\",\"Bytes\",\"Duration\",\"Response_Time\"]].corr()\n",
    "sns.heatmap(corr, annot=True, cmap=\"coolwarm\", fmt=\".2f\")\n",
    "plt.title(\"Corrélations numériques avec Response_Time\")\n",
    "plt.show()"
   ]
  },
  {
   "cell_type": "markdown",
   "id": "02ff379b",
   "metadata": {},
   "source": [
    "## Étape 3 : Analyse de la variance (ANOVA)"
   ]
  },
  {
   "cell_type": "code",
   "execution_count": null,
   "id": "f43a21b2",
   "metadata": {},
   "outputs": [],
   "source": [
    "groups = [df.loc[df[\"Severity\"]==lvl, \"Response_Time\"].values \n",
    "          for lvl in df[\"Severity\"].unique()]\n",
    "F, p = f_oneway(*groups) # f_oneway permet de faire l'ANOVA\n",
    "print(\"ANOVA F:\", round(F, 3), \"| p-value:\", round(p, 4))\n",
    "\n",
    "sns.boxplot(x=\"Severity\", y=\"Response_Time\", data=df)\n",
    "plt.title(\"Response_Time vs Severity (Boxplot)\")\n",
    "plt.show()"
   ]
  },
  {
   "cell_type": "markdown",
   "id": "3a6c60cb",
   "metadata": {},
   "source": [
    "## Étape 4 : Test du Khi-deux"
   ]
  },
  {
   "cell_type": "code",
   "execution_count": null,
   "id": "6c60c04f",
   "metadata": {},
   "outputs": [],
   "source": [
    "tab = pd.crosstab(df[\"Attack_Type\"], df[\"Severity\"])\n",
    "chi2, p, ddl, expected = chi2_contingency(tab)\n",
    "print(\"Chi²:\", round(chi2, 3), \"| p-value:\", round(p, 4))\n",
    "pd.DataFrame(expected, index=tab.index, columns=tab.columns)"
   ]
  },
  {
   "cell_type": "markdown",
   "id": "f5c3b345",
   "metadata": {},
   "source": [
    "## Étape 5 : Préparation des données pour la régression"
   ]
  },
  {
   "cell_type": "code",
   "execution_count": null,
   "id": "de631002",
   "metadata": {},
   "outputs": [],
   "source": [
    "num_cols = [\"Packets\",\"Bytes\",\"Duration\"]\n",
    "cat_cols = [\"Attack_Type\",\"Protocol\",\"Source_Country\",\"Target_OS\",\"Severity\"]\n",
    "\n",
    "X = df[num_cols + cat_cols]\n",
    "y = df[\"Response_Time\"]\n",
    "\n",
    "preproc = ColumnTransformer(\n",
    "    transformers=[\n",
    "        (\"num\", StandardScaler(), num_cols),\n",
    "        (\"cat\", OneHotEncoder(drop=\"first\", handle_unknown=\"ignore\"), cat_cols)\n",
    "])"
   ]
  },
  {
   "cell_type": "markdown",
   "id": "6df8ad1c",
   "metadata": {},
   "source": [
    "## Étape 6 : Régression linéaire"
   ]
  },
  {
   "cell_type": "code",
   "execution_count": null,
   "id": "98e0f57d",
   "metadata": {},
   "outputs": [],
   "source": [
    "pipe = Pipeline(steps=[\n",
    "    (\"prep\", preproc),\n",
    "    (\"reg\", LinearRegression())\n",
    "])\n",
    "\n",
    "pipe.fit(X, y)\n",
    "y_pred = pipe.predict(X)\n",
    "\n",
    "print(\"R²:\", round(r2_score(y, y_pred), 3))\n",
    "print(\"RMSE:\", round(np.sqrt(mean_squared_error(y, y_pred)), 3))"
   ]
  },
  {
   "cell_type": "markdown",
   "id": "b8746414",
   "metadata": {},
   "source": [
    "## Étape 7 : Analyse des coefficients"
   ]
  },
  {
   "cell_type": "code",
   "execution_count": null,
   "id": "73ae1b40",
   "metadata": {},
   "outputs": [],
   "source": [
    "ohe = pipe.named_steps[\"prep\"].named_transformers_[\"cat\"]\n",
    "ohe_features = ohe.get_feature_names_out(cat_cols)\n",
    "all_features = num_cols + list(ohe_features)\n",
    "\n",
    "coef = pd.Series(pipe.named_steps[\"reg\"].coef_, index=all_features).sort_values(ascending=False)\n",
    "\n",
    "print(\"Intercept:\", round(pipe.named_steps[\"reg\"].intercept_, 3))\n",
    "print(\"\\nCoefficients :\")\n",
    "print(coef.round(3))"
   ]
  },
  {
   "cell_type": "markdown",
   "id": "2301415e",
   "metadata": {},
   "source": [
    "## Étape 8 : Visualisation des prédictions"
   ]
  },
  {
   "cell_type": "code",
   "execution_count": null,
   "id": "428291a3",
   "metadata": {},
   "outputs": [],
   "source": [
    "plt.scatter(y, y_pred, color=\"blue\")\n",
    "plt.plot([y.min(), y.max()], [y.min(), y.max()], 'r--')\n",
    "plt.xlabel(\"Response_Time réel\")\n",
    "plt.ylabel(\"Response_Time prédit\")\n",
    "plt.title(\"Régression linéaire : Réel vs Prédit\")\n",
    "plt.show()"
   ]
  },
  {
   "cell_type": "markdown",
   "id": "033a1160",
   "metadata": {},
   "source": [
    "# **Deuxième partie: Travail à faire**"
   ]
  },
  {
   "cell_type": "markdown",
   "id": "fe67f87d",
   "metadata": {},
   "source": [
    "**Contexte du TP**\n",
    "\n",
    "L’entreprise CyberCorp enregistre dans son SIEM (Security Information and Event Management) toutes les tentatives de connexion à son système d’information (voir fichier `cybersecurity_latency.csv`).\n",
    "Chaque log contient :\n",
    "\n",
    "- **user_id** : identifiant utilisateur (user_1, user_2, …)\n",
    "\n",
    "- **role** : Admin, Employe, Manager, Externe\n",
    "\n",
    "- **department** : IT, Finance, RH, Production\n",
    "\n",
    "- **hour** : heure de connexion (0–23h)\n",
    "\n",
    "- **location** : pays d’origine (Maroc, France, USA, Chine, Russie)\n",
    "\n",
    "- **device_type** : Desktop, Mobile, Serveur\n",
    "\n",
    "- **failed_attempts_24h** : nombre d’échecs d’authentification des dernières 24h\n",
    "\n",
    "- **auth_success** : succès (1) ou échec (0) de l’authentification\n",
    "\n",
    "- **latency_ms** : latence de la connexion en millisecondes\n",
    "\n",
    "- **anomaly_score** : score d’anomalie (entre 0 et 1)\n",
    "\n",
    "Vous devez étudier la variable latency_ms (latence réseau) en fonction des autres caractéristiques, à travers les mesures de dépondances et un modèle de regression linéaire.\n",
    "\n",
    "Faites le travail selon les étapes ci-après:"
   ]
  },
  {
   "cell_type": "markdown",
   "id": "98e60023",
   "metadata": {},
   "source": [
    "## Étape 1 : Chargement et exploration\n",
    "\n",
    "- Importer les bibliothèques : pandas, numpy, matplotlib, seaborn, sklearn.\n",
    "\n",
    "- Générer ou charger le dataset fourni.\n",
    "\n",
    "- Afficher les 10 premières lignes et vérifier les types de variables."
   ]
  },
  {
   "cell_type": "code",
   "execution_count": null,
   "id": "a7d6ab55",
   "metadata": {},
   "outputs": [],
   "source": []
  },
  {
   "cell_type": "markdown",
   "id": "4a6da09b",
   "metadata": {},
   "source": [
    "## Étape 2 : Analyse exploratoire\n",
    "\n",
    "- Faire un heatmap des corrélations entre variables numériques (failed_attempts_24h, hour, latency_ms, anomaly_score).\n",
    "\n",
    "- Faire un boxplot de `latency_ms` selon `location`.\n",
    "\n",
    "- Faire un test ANOVA pour voir si `latency_ms` varie selon `device_type`.\n",
    "\n",
    "- Faire un test du Khi-deux pour tester la dépendance entre `role` et `auth_success`."
   ]
  },
  {
   "cell_type": "code",
   "execution_count": null,
   "id": "9e793d4c",
   "metadata": {},
   "outputs": [],
   "source": []
  },
  {
   "cell_type": "markdown",
   "id": "1b5d92a0",
   "metadata": {},
   "source": [
    "## Étape 3 : Préparation des données\n",
    "\n",
    "- Séparer les variables explicatives (X) et la cible (y = `latency_ms`).\n",
    "\n",
    "- Identifier les colonnes numériques et catégorielles.\n",
    "\n",
    "- Utiliser un ColumnTransformer avec :\n",
    "\n",
    "    - **StandardScaler()** pour les variables numériques\n",
    "\n",
    "    - **OneHotEncoder(drop=\"first\")** pour les variables catégorielles"
   ]
  },
  {
   "cell_type": "code",
   "execution_count": null,
   "id": "3e17c24d",
   "metadata": {},
   "outputs": [],
   "source": []
  },
  {
   "cell_type": "markdown",
   "id": "8351e1c2",
   "metadata": {},
   "source": [
    "## Étape 4 : Modèle de régression linéaire\n",
    "\n",
    "- Construire un pipeline avec :\n",
    "\n",
    "    - préprocesseur (ColumnTransformer)\n",
    "\n",
    "    - modèle (LinearRegression)\n",
    "\n",
    "- Entraîner le modèle et faire les prédictions.\n",
    "\n",
    "- Calculer les métriques :\n",
    "\n",
    "    - R² (coefficient de détermination)\n",
    "\n",
    "    - RMSE (erreur quadratique moyenne)"
   ]
  },
  {
   "cell_type": "code",
   "execution_count": null,
   "id": "f41b3141",
   "metadata": {},
   "outputs": [],
   "source": []
  },
  {
   "cell_type": "markdown",
   "id": "94158c44",
   "metadata": {},
   "source": [
    "## Étape 5 : Interprétation\n",
    "\n",
    "- Afficher les coefficients associés aux variables.\n",
    "\n",
    "- Identifier :\n",
    "\n",
    "    - Quelles localisations ou quels types de device augmentent la latence.\n",
    "\n",
    "    - L’effet des variables quantitatives (failed_attempts_24h, hour) sur la latence."
   ]
  },
  {
   "cell_type": "code",
   "execution_count": null,
   "id": "8646b459",
   "metadata": {},
   "outputs": [],
   "source": []
  },
  {
   "cell_type": "markdown",
   "id": "c179a84e",
   "metadata": {},
   "source": [
    "## Étape 6 : Effet interaction entre deux variables"
   ]
  },
  {
   "cell_type": "markdown",
   "id": "c24cbdbf",
   "metadata": {},
   "source": [
    "**Exemple illustratif**: On veut prédire la probabilité d’échec de connexion (failed_attempts) en fonction de :\n",
    "\n",
    "- `device` (PC, serveur, smartphone),\n",
    "- `hour` (heure de la journée).\n",
    "\n",
    "Le modèle:  **Y=β0​+β1​⋅device+β2​⋅hour+ε** suppose que **l’effet du type d’appareil (device) est le même quelle que soit l’heure (hour)**.\n",
    "\n",
    "Pourtant, l’effet du device à changer selon l’heure, c'est ce qu'on appelle **effet interaction**. Par exemple :\n",
    "\n",
    "- Les serveurs peuvent avoir plus d’échecs de connexion la nuit (maintenance, scans automatiques).\n",
    "- Les smartphones peuvent avoir plus d’échecs en journée (mauvais réseaux).\n",
    "\n",
    "Une interaction entre deux variables signifie que l’effet d’une variable sur la variable cible dépend de la valeur de l’autre variable.\n",
    "\n",
    "Le modèle avec interaction va capturer cette nuance :  **Y=β0​+β1​⋅device+β2​⋅hour+β3​⋅(device×hour)+ε**"
   ]
  },
  {
   "cell_type": "markdown",
   "id": "26c301ad",
   "metadata": {},
   "source": [
    "**Question**: Evaluer l'effet interaction entre `devices==\"Serveur` et `failed_attempts` sur le modèle de regression"
   ]
  }
 ],
 "metadata": {
  "kernelspec": {
   "display_name": ".venv",
   "language": "python",
   "name": "python3"
  },
  "language_info": {
   "codemirror_mode": {
    "name": "ipython",
    "version": 3
   },
   "file_extension": ".py",
   "mimetype": "text/x-python",
   "name": "python",
   "nbconvert_exporter": "python",
   "pygments_lexer": "ipython3",
   "version": "3.12.3"
  }
 },
 "nbformat": 4,
 "nbformat_minor": 5
}
