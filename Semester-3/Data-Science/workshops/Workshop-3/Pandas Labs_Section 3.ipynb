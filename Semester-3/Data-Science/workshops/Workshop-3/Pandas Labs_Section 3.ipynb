{
 "cells": [
  {
   "attachments": {},
   "cell_type": "markdown",
   "id": "26be301e-d451-453b-b0b6-4da8036c42bf",
   "metadata": {
    "slideshow": {
     "slide_type": "slide"
    },
    "tags": []
   },
   "source": [
    "# Section 3: Visualisation de données\n",
    "\n",
    "Le cerveau humain excelle à trouver des modèles dans les représentations visuelles des données.   \n",
    "Dans cette section, nous allons apprendre à visualiser les données en utilisant pandas avec les bibliothèques `Matplotlib`et `Seaborn` . Nous créerons diverses visualisations qui nous aideront à mieux comprendre nos données."
   ]
  },
  {
   "attachments": {},
   "cell_type": "markdown",
   "id": "d969019e",
   "metadata": {},
   "source": [
    "# <font color='Red'>I) Visualisation avec pandas</font> "
   ]
  },
  {
   "attachments": {},
   "cell_type": "markdown",
   "id": "e58aeca3-c71e-4b42-9ece-4eaa30ea0382",
   "metadata": {
    "slideshow": {
     "slide_type": "slide"
    },
    "tags": []
   },
   "source": [
    "Nous pouvons créer une variété de visualisations en utilisant la méthode `plot()`. Dans cette section, nous allons faire un bref tour de cette fonction qui utilise `Matplotlib`"
   ]
  },
  {
   "attachments": {},
   "cell_type": "markdown",
   "id": "339e95bb-898d-4775-a4e2-fc842ff2a137",
   "metadata": {
    "slideshow": {
     "slide_type": "subslide"
    },
    "tags": []
   },
   "source": [
    "Cette fois aussi, nous travaillerons avec les données de débit des voyageurs (`TSA traveler`) que nous avons nettoyées dans la section précédente :"
   ]
  },
  {
   "cell_type": "code",
   "execution_count": null,
   "id": "a3876452-9a6a-485e-bf1f-c99b483dbceb",
   "metadata": {
    "tags": []
   },
   "outputs": [],
   "source": [
    "import pandas as pd\n",
    "\n",
    "tsa_melted_holiday_travel = pd.read_csv(\n",
    "    './datasets/tsa_melted_holiday_travel.csv', \n",
    "    parse_dates=True, index_col='date'\n",
    ")\n",
    "tsa_melted_holiday_travel.head()"
   ]
  },
  {
   "attachments": {},
   "cell_type": "markdown",
   "id": "c930882b-eeb9-49e0-86a1-d124ea5ad996",
   "metadata": {
    "slideshow": {
     "slide_type": "fragment"
    },
    "tags": []
   },
   "source": [
    "Pour intégrer des graphiques au format ***SVG*** dans le notebook, nous appellons `%config` and `%matplotlib inline` :"
   ]
  },
  {
   "cell_type": "code",
   "execution_count": null,
   "id": "797d3b37-177c-4e24-ad42-8396b8f78f7f",
   "metadata": {},
   "outputs": [],
   "source": [
    "%config InlineBackend.figure_formats = ['svg']\n",
    "%matplotlib inline "
   ]
  },
  {
   "attachments": {},
   "cell_type": "markdown",
   "id": "f7ba5704",
   "metadata": {},
   "source": [
    "## <font color='green'> I-a) Les courbes (Line plots)</font> "
   ]
  },
  {
   "attachments": {},
   "cell_type": "markdown",
   "id": "48820846-a8ab-418c-9288-4cfad3230095",
   "metadata": {
    "slideshow": {
     "slide_type": "subslide"
    },
    "tags": []
   },
   "source": [
    "La méthode `plot()` générera des courbes pour toutes les colonnes numériques par défaut :"
   ]
  },
  {
   "cell_type": "code",
   "execution_count": null,
   "id": "7d30f224-a4c3-4083-981e-a3340f4a26b0",
   "metadata": {},
   "outputs": [],
   "source": [
    "tsa_melted_holiday_travel.drop(columns='year').loc['2019'].assign(\n",
    "    **{\n",
    "        '7D MA'   : lambda x: x.travelers.rolling('7D').mean(),\n",
    "        'YTD mean': lambda x: x.travelers.expanding().mean()\n",
    "      }\n",
    ").plot(title='2020 TSA Traveler Throughput', ylabel='travelers', alpha=0.8)"
   ]
  },
  {
   "attachments": {},
   "cell_type": "markdown",
   "id": "46008885-2435-42f1-964b-2aa6d8543e68",
   "metadata": {
    "slideshow": {
     "slide_type": "subslide"
    },
    "tags": []
   },
   "source": [
    "La méthode `plot()` renvoie un objet `Axes` qui peut être modifié (par exemple pour ajouter des annotations, des étiquettes, etc.). Voyons un exemple."
   ]
  },
  {
   "attachments": {},
   "cell_type": "markdown",
   "id": "f403b73d",
   "metadata": {},
   "source": [
    "## <font color='green'> I-b) diagrammes en barres/Bar plots</font> "
   ]
  },
  {
   "attachments": {},
   "cell_type": "markdown",
   "id": "b8249605-ea35-4fd3-b940-8f77c80201bb",
   "metadata": {
    "slideshow": {
     "slide_type": "subslide"
    },
    "tags": []
   },
   "source": [
    "Pour notre prochain exemple, nous allons tracer des barres verticales pour comparer le débit mensuel des voyageurs TSA sur plusieurs années. Commençons par créer un tableau croisé dynamique avec les informations dont nous avons besoin :"
   ]
  },
  {
   "cell_type": "code",
   "execution_count": null,
   "id": "babbc6d8-fff4-4505-ad88-8af332416208",
   "metadata": {},
   "outputs": [],
   "source": [
    "plot_data = tsa_melted_holiday_travel['2019':'2021-04']\\\n",
    "    .assign(month=lambda x: x.index.month)\\\n",
    "    .pivot_table(index='month', columns='year', values='travelers', aggfunc='sum')\n",
    "plot_data.head()"
   ]
  },
  {
   "attachments": {},
   "cell_type": "markdown",
   "id": "5e3031da-3a51-4d61-8f48-6ed9492777e6",
   "metadata": {
    "slideshow": {
     "slide_type": "subslide"
    },
    "tags": []
   },
   "source": [
    "Pandas offre d’autres types de graphiques via le paramètre `kind`, donc on spécifie `kind='bar'` en appelant la méthode `plot()`. Ensuite, nous formaterons la visualisation en utilisant l’objet `Axes` retourné par la méthode plot().   \n",
    " Voir les paramettres de `plot()`[ici](https://pandas.pydata.org/docs/reference/api/pandas.DataFrame.plot.html#)"
   ]
  },
  {
   "cell_type": "code",
   "execution_count": null,
   "id": "d1776fcf-d50f-44b1-8b11-26675347fec5",
   "metadata": {},
   "outputs": [],
   "source": [
    "import calendar\n",
    "from matplotlib import ticker\n",
    "\n",
    "ax = plot_data.plot(\n",
    "    kind='bar', rot=0, xlabel='', ylabel='travelers',\n",
    "    figsize=(8, 1.5), title='TSA Monthly Traveler Throughput'\n",
    ")\n",
    "\n",
    "# use month abbreviations for the ticks on the x-axis\n",
    "ax.set_xticklabels(calendar.month_abbr[1:])\n",
    "\n",
    "# show y-axis labels in millions instead of scientific notation\n",
    "ax.yaxis.set_major_formatter(ticker.EngFormatter())\n",
    "\n",
    "# customize the legend\n",
    "ax.legend(title='', loc='center', bbox_to_anchor=(0.5, -0.5), ncol=3, frameon=False)"
   ]
  },
  {
   "attachments": {},
   "cell_type": "markdown",
   "id": "563a8e97-425d-40b3-a140-01b5ecea3e01",
   "metadata": {
    "slideshow": {
     "slide_type": "subslide"
    },
    "tags": []
   },
   "source": [
    "Quelques informations à garder à l’esprit :\n",
    "- Le module `ticker` de `Matplotlib` fournit des fonctionnalités pour personnaliser à la fois les étiquettes leures emplacements; consultez la [documentation](https://matplotlib.org/stable/api/ticker_api.html) pour plus d'informations.\n",
    "- **Pandas** supporte aussi les barres ***horizontales*** et ***empilées***; [Ici](https://medium.com/@stefaniemolin/how-to-pivot-and-plot-data-with-pandas-9450939fcf8) un blog qui montre comment faire des barres horizontales empilées à l’aide d’un tableau croisé dynamique.\n",
    "- La fonction `plot()` comprend plusieurs [paramèters](https://pandas.pydata.org/pandas-docs/stable/reference/api/pandas.DataFrame.plot.html)."
   ]
  },
  {
   "attachments": {},
   "cell_type": "markdown",
   "id": "e926f911",
   "metadata": {},
   "source": [
    "## <font color='green'> I-c) diagrammes de distributions/Plotting distributions</font> "
   ]
  },
  {
   "attachments": {},
   "cell_type": "markdown",
   "id": "07bd2a75-9550-4be1-85d0-6df10a958e8e",
   "metadata": {
    "slideshow": {
     "slide_type": "subslide"
    },
    "tags": []
   },
   "source": [
    "Comparons maintenant la répartition du débit quotidien des voyageurs TSA sur plusieurs années. Nous allons créer un diagramme et une courbe de distribution pour chaque année.  \n",
    " Dans les deux exemples précédents, Pandas a généré les objets `Figure` et `Axes`, mais nous pouvons construire des mises en page personnalisées en les créant nous-mêmes avec `Matplotlib` en utilisant la fonction `plt.subplots()`. Tout d’abord, il faudra importer le module `pyplot` :"
   ]
  },
  {
   "cell_type": "code",
   "execution_count": null,
   "id": "5f2d78a2-ced4-48c2-b40c-993d72833828",
   "metadata": {},
   "outputs": [],
   "source": [
    "import matplotlib.pyplot as plt\n"
   ]
  },
  {
   "cell_type": "code",
   "execution_count": null,
   "id": "604d6112-2b33-403d-9383-982ab81e667c",
   "metadata": {},
   "outputs": [],
   "source": [
    "# define the subplot layout\n",
    "fig, axes = plt.subplots(3, 1, sharex=True, sharey=True, figsize=(6, 4))\n",
    "\n",
    "for year, ax in zip(tsa_melted_holiday_travel.year.unique(), axes):\n",
    "    plot_data = tsa_melted_holiday_travel.loc[str(year)].travelers\n",
    "    plot_data.plot(kind='hist', legend=False, density=True, alpha=0.8, ax=ax)\n",
    "    plot_data.plot(kind='kde', legend=False, color='blue', ax=ax)\n",
    "    ax.set(title=f'{year} TSA Traveler Throughput', xlabel='travelers')\n",
    "\n",
    "fig.tight_layout() # handle overlaps"
   ]
  },
  {
   "attachments": {},
   "cell_type": "markdown",
   "id": "b3baba7d-e807-4e33-9ccb-f21e62af9c1a",
   "metadata": {
    "slideshow": {
     "slide_type": "fragment"
    },
    "tags": []
   },
   "source": [
    "*Conseil : Pour découvrir la fonction « zip() », jetez un coup d’œil [ici](https://realpython.com/python-zip-function/).*"
   ]
  },
  {
   "attachments": {},
   "cell_type": "markdown",
   "id": "0d785e0f",
   "metadata": {},
   "source": [
    "## <font color='green'> I-d) Exercise 3.1</font> "
   ]
  },
  {
   "attachments": {},
   "cell_type": "markdown",
   "id": "368159b1-68da-4862-92c3-b99b422c2b27",
   "metadata": {},
   "source": [
    "##### À l’aide des données sur le débit des voyageurs `tsa_melted_holiday_travel.csv`, créez des graphiques en boîtes à moustache pour le débit des voyageurs pour chaque année dans les données.  \n",
    " *Astuce : Passez `kind='box`dans la méthode `plot()` pour générer des parcelles.*"
   ]
  },
  {
   "cell_type": "code",
   "execution_count": null,
   "id": "7df8b0db-bda6-4a7f-bc63-18fa2a0304f2",
   "metadata": {},
   "outputs": [],
   "source": []
  },
  {
   "attachments": {},
   "cell_type": "markdown",
   "id": "26d53b2b",
   "metadata": {},
   "source": [
    "# <font color='Red'>II) Visualisation avec le module ***Seaborn***</font> "
   ]
  },
  {
   "attachments": {},
   "cell_type": "markdown",
   "id": "f2911c08-e6ca-4985-8f45-f20dead5a8d7",
   "metadata": {
    "slideshow": {
     "slide_type": "slide"
    },
    "tags": []
   },
   "source": [
    "La bibliothèque ***`Seaborn`*** permet de visualiser facilement les données long-format sans avoir à les pivoter. \n",
    "En outre, elle offre également quelques types de visualisation supplémentaires. Ici vous allez traiter quelques exemples de visualisations avec `Seaborn`."
   ]
  },
  {
   "attachments": {},
   "cell_type": "markdown",
   "id": "b345b605",
   "metadata": {},
   "source": [
    "## <font color='green'> II-a) Visualisation des données long-format</font> "
   ]
  },
  {
   "attachments": {},
   "cell_type": "markdown",
   "id": "bac044d2-5ac4-4945-99d8-4b764162aa1f",
   "metadata": {
    "slideshow": {
     "slide_type": "subslide"
    },
    "tags": []
   },
   "source": [
    "Avec Seaborn, nous pouvons spécifier les couleurs des graphiques en fonction des valeurs d’une colonne avec le paramètre `hue`. Lorsque nous travaillons avec des sous-graphes, nous pouvons également spécifier comment diviser les sous-graphes avec les paramètres `col` et `row`. Ici, nous revisitons la comparaison de la distribution du débit de voyageurs TSA sur plusieurs années :"
   ]
  },
  {
   "cell_type": "code",
   "execution_count": null,
   "id": "b68a741f-9c37-4925-84b9-615c34ea0297",
   "metadata": {},
   "outputs": [],
   "source": [
    "import seaborn as sns\n",
    "\n",
    "sns.displot(\n",
    "    data=tsa_melted_holiday_travel, x='travelers', col='year', kde=True, height=2.5\n",
    ")"
   ]
  },
  {
   "attachments": {},
   "cell_type": "markdown",
   "id": "5df1d7ef",
   "metadata": {},
   "source": [
    "## <font color='green'> II-b) Les cartes thermiques/Heatmaps</font> "
   ]
  },
  {
   "attachments": {},
   "cell_type": "markdown",
   "id": "f089a1ea",
   "metadata": {},
   "source": [
    "Nous pouvons également utiliser `Seaborn` pour visualiser des tableaux croisés dynamiques sous forme de cartes thermiques :"
   ]
  },
  {
   "cell_type": "code",
   "execution_count": null,
   "id": "06e8aa20",
   "metadata": {},
   "outputs": [],
   "source": [
    "tsa_melted_holiday_travel.head()"
   ]
  },
  {
   "cell_type": "code",
   "execution_count": null,
   "id": "46eafd2b-ffef-4aec-9a88-05342ac3fff6",
   "metadata": {},
   "outputs": [],
   "source": [
    "data = tsa_melted_holiday_travel['2019':'2021-04']\\\n",
    "    .assign(month=lambda x: x.index.month)\\\n",
    "    .pivot_table(index='month', columns='year', values='travelers', aggfunc='sum')\n",
    "\n",
    "ax = sns.heatmap(data=data / 1e6, cmap='Blues', annot=True, fmt='.1f')\n",
    "_ = ax.set_yticklabels(calendar.month_abbr[1:], rotation=0)\n",
    "_ = ax.set_title('Total TSA Traveler Throughput (in millions)')"
   ]
  },
  {
   "attachments": {},
   "cell_type": "markdown",
   "id": "67f37993-353e-48da-b851-9f47371ab996",
   "metadata": {},
   "source": [
    "*Conseil : Consultez la documentation de Matplotlib pour plus d’informations sur [colormaps](https://matplotlib.org/stable/tutorials/colors/colormaps.html) et [named colors](https://matplotlib.org/stable/gallery/color/named_colors.html).*"
   ]
  },
  {
   "attachments": {},
   "cell_type": "markdown",
   "id": "ca68fe31-6706-4c87-beee-cc95c74a02b0",
   "metadata": {
    "slideshow": {
     "slide_type": "subslide"
    },
    "tags": []
   },
   "source": [
    "Nous passons de ***Seaborn*** maintenant, mais il y a beaucoup plus disponible dans [API](https://seaborn.pydata.org/api.html). Essayer de consulter les liens suivant:\n",
    "- [pairwise plots](https://seaborn.pydata.org/generated/seaborn.pairplot.html#seaborn.pairplot) avec `pairplot()`\n",
    "- [categorical scatter plots](https://seaborn.pydata.org/generated/seaborn.swarmplot.html#seaborn.swarmplot) avec `swarmplot()`\n",
    "- [joint distribution plots](https://seaborn.pydata.org/generated/seaborn.jointplot.html#seaborn.jointplot) avec `jointplot()`\n",
    "- [FacetGrids](https://seaborn.pydata.org/generated/seaborn.FacetGrid.html#seaborn.FacetGrid) pour des mises en page personnalisées avec n’importe quel type de visualisation"
   ]
  },
  {
   "attachments": {},
   "cell_type": "markdown",
   "id": "3e85b76c",
   "metadata": {},
   "source": [
    "## <font color='green'> II-c) Exercise 3.2</font> "
   ]
  },
  {
   "attachments": {},
   "cell_type": "markdown",
   "id": "fae77a2a-1206-4d0b-a7b9-d2242e1222e2",
   "metadata": {},
   "source": [
    "##### En utilisant les données de débit des voyageurs TSA dans le fichier`tsa_melted_holiday_travel.csv` , créer une carte thermique qui montre le débit ***médian*** de voyageurs de la TSA en ***2019*** par ****jour*** de semaine et par ***mois***."
   ]
  },
  {
   "cell_type": "code",
   "execution_count": null,
   "id": "6d410276-25aa-4c16-9987-4e17930ebced",
   "metadata": {},
   "outputs": [],
   "source": []
  },
  {
   "attachments": {},
   "cell_type": "markdown",
   "id": "f7187b5c",
   "metadata": {},
   "source": [
    "# <font color='Red'>III) Personnalisation des graphes avec module ***Matplotlib***</font> "
   ]
  },
  {
   "attachments": {},
   "cell_type": "markdown",
   "id": "06157244-ac5c-40aa-84e7-8fc82e3625e1",
   "metadata": {
    "slideshow": {
     "slide_type": "slide"
    },
    "tags": []
   },
   "source": [
    "Dans cette dernière section, nous verrons comment utiliser ***Matplotlib*** pour personnaliser les graphiques. Comme il y a beaucoup de fonctionnalités disponibles, nous verrons seulement comment ajouter des zones grisées et des annotations ici, mais n'hésiter pas de consulter la [documentation](https://matplotlib.org/) pour plus de fonctionnalités."
   ]
  },
  {
   "attachments": {},
   "cell_type": "markdown",
   "id": "2b9ec583",
   "metadata": {},
   "source": [
    "## <font color='green'> III-a) Ajout de zones grisées </font> "
   ]
  },
  {
   "attachments": {},
   "cell_type": "markdown",
   "id": "336a32df-ed17-47cc-9fcb-c7c62e31dfcc",
   "metadata": {
    "slideshow": {
     "slide_type": "subslide"
    },
    "tags": []
   },
   "source": [
    "Lorsque vous regardez une visualisation du débit des voyageurs au fil du temps, il est utile d’indiquer les périodes pendant lesquelles il y avait des voyages en vacances. Pour ce faire, nous pouvons nous servir de la méthode `axvspan()`:"
   ]
  },
  {
   "cell_type": "code",
   "execution_count": null,
   "id": "3ca5d001",
   "metadata": {},
   "outputs": [],
   "source": [
    "plot_data = tsa_melted_holiday_travel['2019-05':'2019-11']\n",
    "ax = plot_data.travelers.plot(\n",
    "    title='TSA Traveler Throughput', ylabel='travelers', figsize=(9, 2)\n",
    ")\n",
    "ax.yaxis.set_major_formatter(ticker.EngFormatter())\n",
    "\n",
    "# collect the holiday ranges (start and end dates)\n",
    "holiday_ranges = plot_data.dropna().reset_index()\\\n",
    "    .groupby('holiday').agg({'date': ['min', 'max']})\n",
    "\n",
    "# create shaded regions for each holiday in the plot\n",
    "for start_date, end_date in holiday_ranges.to_numpy():\n",
    "    ax.axvspan(start_date, end_date, color='gray', alpha=0.2)"
   ]
  },
  {
   "attachments": {},
   "cell_type": "markdown",
   "id": "7ca842ec-a375-4552-8a07-6fb844e56a53",
   "metadata": {
    "slideshow": {
     "slide_type": "subslide"
    },
    "tags": []
   },
   "source": [
    "*Conseil : Utilisez `axhspan()` pour les régions ombrées horizontalement et `axvline()` / `axhline()` pour les lignes de référence verticales/horizontales.*"
   ]
  },
  {
   "attachments": {},
   "cell_type": "markdown",
   "id": "bc38fecd",
   "metadata": {},
   "source": [
    "## <font color='green'> III-b) ajouter des annotations </font> "
   ]
  },
  {
   "attachments": {},
   "cell_type": "markdown",
   "id": "0b571f86-d94a-4574-9fc5-4013cf1a5e95",
   "metadata": {
    "slideshow": {
     "slide_type": "subslide"
    },
    "tags": []
   },
   "source": [
    "Nous pouvons utiliser la méthode `annotate()` pour ajouter des annotations au graphique. Ici, nous soulignons le jour de 2019 avec le plus haut débit de voyageurs TSA, qui était le lendemain du *Thanksgiving*:"
   ]
  },
  {
   "cell_type": "code",
   "execution_count": null,
   "id": "cd8a781f-3a17-445f-8ff2-742086122b67",
   "metadata": {},
   "outputs": [],
   "source": [
    "plot_data = tsa_melted_holiday_travel.loc['2019']\n",
    "ax = plot_data.travelers.plot(\n",
    "    title='TSA Traveler Throughput', ylabel='travelers', figsize=(9, 2)\n",
    ")\n",
    "ax.yaxis.set_major_formatter(ticker.EngFormatter())\n",
    "\n",
    "# highest throughput\n",
    "max_throughput_date = plot_data.travelers.idxmax()\n",
    "max_throughput = plot_data.travelers.max()\n",
    "_ = ax.annotate(\n",
    "    f'{max_throughput_date:%b %d}\\n({max_throughput / 1e6:.2f} M)',\n",
    "    xy=(max_throughput_date, max_throughput),\n",
    "    xytext=(max_throughput_date - pd.Timedelta(days=25), max_throughput * 0.92),\n",
    "    arrowprops={'arrowstyle': '->'}, ha='center'\n",
    ")"
   ]
  },
  {
   "attachments": {},
   "cell_type": "markdown",
   "id": "3fdc2ca2-bdfa-46f4-a7d3-24df19606c5c",
   "metadata": {
    "slideshow": {
     "slide_type": "subslide"
    },
    "tags": []
   },
   "source": [
    "Des informations à garder dans l'ésprit: \n",
    "- Nous avons utilisé les méthodes `Axes` pour personnaliser nos graphiques (c.-à-d. **une approche orientée objet**), et nous avons aussi vu le module **`pyplot`** qui permet des fonctions équivalentes (c.-à-d. **une approche fonctionnelle**) pour ajouter des régions ombrées, des lignes de référence, des annotations, etc (p. ex.,  `Axes.set_xlabel()` contre `plt.xlabel()`). \n",
    "- En général, essayez de vous en tenir à l’approche orientée objet ou fonctionnelle plutôt que de mélanger les deux. Cependant, soyez prudent lorsque vous travaillez avec des sous-graphes;  les functions `pyplot` affecteront seulement le dernier sous-graphe.\n",
    "- Le diagramme [anatomie d’une figure](https://matplotlib.org/stable/gallery/showcase/anatomy.html) dans la documentation de Matplotlib est une excellente ressource pour identifier les objets auxquels vous aurez besoin d’accéder pour personnaliser les graphiques."
   ]
  },
  {
   "attachments": {},
   "cell_type": "markdown",
   "id": "c31d1d88-a831-42f6-a258-9bcdfe2850a8",
   "metadata": {
    "slideshow": {
     "slide_type": "subslide"
    },
    "tags": []
   },
   "source": [
    "For more on data visualization in Python, including animations and interactive plots, check out my [Beyond the Basics: Data Visualization in Python](https://github.com/stefmolin/python-data-viz-workshop) workshop."
   ]
  },
  {
   "attachments": {},
   "cell_type": "markdown",
   "id": "0fdfd818",
   "metadata": {},
   "source": [
    "## <font color='green'> III-c) Exercise 3.3 </font> "
   ]
  },
  {
   "attachments": {},
   "cell_type": "markdown",
   "id": "690a51e5-77c1-401c-94db-ac08c506e56f",
   "metadata": {},
   "source": [
    "##### Annoter les médianes dans la zone du graphique de l'*Exercise 3.1*. \n",
    "Conseil : Les coordonnées ***x*** seront 1, 2 et 3 pour 2019, 2020 et 2021, respectivement. \n",
    "Sinon, vous pouvez utiliser la méthode `Axes.get_xticklabels()`, auquel cas vous devriez regarder la [documentation](https://matplotlib.org/stable/api/text_api.html) pour la class `Text`."
   ]
  },
  {
   "cell_type": "code",
   "execution_count": null,
   "id": "583f952c-2c2e-40ed-9235-fd80a7fe43b7",
   "metadata": {},
   "outputs": [],
   "source": []
  }
 ],
 "metadata": {
  "kernelspec": {
   "display_name": "Python 3 (ipykernel)",
   "language": "python",
   "name": "python3"
  },
  "language_info": {
   "codemirror_mode": {
    "name": "ipython",
    "version": 3
   },
   "file_extension": ".py",
   "mimetype": "text/x-python",
   "name": "python",
   "nbconvert_exporter": "python",
   "pygments_lexer": "ipython3",
   "version": "3.10.8"
  }
 },
 "nbformat": 4,
 "nbformat_minor": 5
}
