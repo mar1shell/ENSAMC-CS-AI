{
 "cells": [
  {
   "cell_type": "code",
   "execution_count": 1,
   "id": "39f7adc2",
   "metadata": {},
   "outputs": [],
   "source": [
    "import numpy as np\n",
    "import pandas as pd\n",
    "import matplotlib.pyplot as plt\n",
    "\n",
    "from sklearn.preprocessing import StandardScaler\n",
    "\n",
    "%matplotlib inline"
   ]
  },
  {
   "cell_type": "code",
   "execution_count": 2,
   "id": "a9fc9df0",
   "metadata": {},
   "outputs": [
    {
     "data": {
      "text/plain": [
       "<Axes: title={'center': 'US Murders vs Assaults'}, xlabel='Murder', ylabel='Assault'>"
      ]
     },
     "execution_count": 2,
     "metadata": {},
     "output_type": "execute_result"
    },
    {
     "data": {
      "image/png": "[encoded data removed]",
      "text/plain": [
       "<Figure size 550x420 with 1 Axes>"
      ]
     },
     "metadata": {},
     "output_type": "display_data"
    }
   ],
   "source": [
    "# Load the data\n",
    "us_arrests = pd.read_csv('../datasets/USArrests.csv', index_col=4)\n",
    "\n",
    "# extract only murder and assault columns\n",
    "us_murders_assaults = us_arrests[['Murder', 'Assault']]\n",
    "\n",
    "# plot\n",
    "us_murders_assaults.plot.scatter(x='Murder', y='Assault', c='Blue', title=\"US Murders vs Assaults\", figsize=(5.5, 4.2))"
   ]
  },
  {
   "cell_type": "code",
   "execution_count": 5,
   "id": "e8403211",
   "metadata": {},
   "outputs": [
    {
     "data": {
      "text/html": [
       "<div>\n",
       "<style scoped>\n",
       "    .dataframe tbody tr th:only-of-type {\n",
       "        vertical-align: middle;\n",
       "    }\n",
       "\n",
       "    .dataframe tbody tr th {\n",
       "        vertical-align: top;\n",
       "    }\n",
       "\n",
       "    .dataframe thead th {\n",
       "        text-align: right;\n",
       "    }\n",
       "</style>\n",
       "<table border=\"1\" class=\"dataframe\">\n",
       "  <thead>\n",
       "    <tr style=\"text-align: right;\">\n",
       "      <th></th>\n",
       "      <th>Murder</th>\n",
       "      <th>Assault</th>\n",
       "    </tr>\n",
       "  </thead>\n",
       "  <tbody>\n",
       "    <tr>\n",
       "      <th>count</th>\n",
       "      <td>5.000000e+01</td>\n",
       "      <td>5.000000e+01</td>\n",
       "    </tr>\n",
       "    <tr>\n",
       "      <th>mean</th>\n",
       "      <td>-7.105427e-17</td>\n",
       "      <td>1.387779e-16</td>\n",
       "    </tr>\n",
       "    <tr>\n",
       "      <th>std</th>\n",
       "      <td>1.010153e+00</td>\n",
       "      <td>1.010153e+00</td>\n",
       "    </tr>\n",
       "    <tr>\n",
       "      <th>min</th>\n",
       "      <td>-1.620693e+00</td>\n",
       "      <td>-1.524362e+00</td>\n",
       "    </tr>\n",
       "    <tr>\n",
       "      <th>25%</th>\n",
       "      <td>-8.611383e-01</td>\n",
       "      <td>-7.486054e-01</td>\n",
       "    </tr>\n",
       "    <tr>\n",
       "      <th>50%</th>\n",
       "      <td>-1.247758e-01</td>\n",
       "      <td>-1.425453e-01</td>\n",
       "    </tr>\n",
       "    <tr>\n",
       "      <th>75%</th>\n",
       "      <td>8.029251e-01</td>\n",
       "      <td>9.483628e-01</td>\n",
       "    </tr>\n",
       "    <tr>\n",
       "      <th>max</th>\n",
       "      <td>2.229265e+00</td>\n",
       "      <td>2.015028e+00</td>\n",
       "    </tr>\n",
       "  </tbody>\n",
       "</table>\n",
       "</div>"
      ],
      "text/plain": [
       "             Murder       Assault\n",
       "count  5.000000e+01  5.000000e+01\n",
       "mean  -7.105427e-17  1.387779e-16\n",
       "std    1.010153e+00  1.010153e+00\n",
       "min   -1.620693e+00 -1.524362e+00\n",
       "25%   -8.611383e-01 -7.486054e-01\n",
       "50%   -1.247758e-01 -1.425453e-01\n",
       "75%    8.029251e-01  9.483628e-01\n",
       "max    2.229265e+00  2.015028e+00"
      ]
     },
     "execution_count": 5,
     "metadata": {},
     "output_type": "execute_result"
    }
   ],
   "source": [
    "from sklearn.preprocessing import StandardScaler\n",
    "\n",
    "# Standardize the data\n",
    "\n",
    "scaler = StandardScaler()\n",
    "scaler = scaler.fit(us_murders_assaults)\n",
    "\n",
    "scaled_us_murders_assaults = scaler.transform(us_murders_assaults)\n",
    "\n",
    "scaled_us_murders_assaults = pd.DataFrame(scaled_us_murders_assaults, index=us_murders_assaults.index, columns=us_murders_assaults.columns)\n",
    "\n",
    "scaled_us_murders_assaults.describe()\n"
   ]
  }
 ],
 "metadata": {
  "kernelspec": {
   "display_name": ".venv",
   "language": "python",
   "name": "python3"
  },
  "language_info": {
   "codemirror_mode": {
    "name": "ipython",
    "version": 3
   },
   "file_extension": ".py",
   "mimetype": "text/x-python",
   "name": "python",
   "nbconvert_exporter": "python",
   "pygments_lexer": "ipython3",
   "version": "3.12.3"
  }
 },
 "nbformat": 4,
 "nbformat_minor": 5
}
