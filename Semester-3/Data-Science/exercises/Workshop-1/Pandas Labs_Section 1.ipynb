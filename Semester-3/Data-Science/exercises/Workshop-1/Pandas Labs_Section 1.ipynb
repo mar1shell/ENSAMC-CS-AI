{
 "cells": [
  {
   "cell_type": "markdown",
   "id": "047ca6ed",
   "metadata": {},
   "source": [
    "# Section 1: Introduction à Pandas"
   ]
  },
  {
   "attachments": {},
   "cell_type": "markdown",
   "id": "a17bc824",
   "metadata": {},
   "source": [
    "Nous allons commencer par présenter les classes Series, DataFrame et Index, qui sont les éléments de base de la bibliothèque **pandas**, et nous allons montrer comment travailler avec. \n",
    "À la fin de cette section, vous pourrez créer des DataFrames et y effectuer des opérations pour inspecter et filtrer les données."
   ]
  },
  {
   "cell_type": "markdown",
   "id": "8275d05c",
   "metadata": {},
   "source": [
    "##  <font color='green'>Anatomie d’un DataFrame</font> \n"
   ]
  },
  {
   "cell_type": "markdown",
   "id": "0edda950",
   "metadata": {},
   "source": [
    "Un **DataFrame** est composé d’une ou de plusieurs **séries**. Les noms des **séries** forment les noms des colonnes, et les étiquettes des lignes forment **l’index**."
   ]
  },
  {
   "cell_type": "code",
   "execution_count": 14,
   "id": "5feb4718",
   "metadata": {},
   "outputs": [
    {
     "data": {
      "text/html": [
       "<div>\n",
       "<style scoped>\n",
       "    .dataframe tbody tr th:only-of-type {\n",
       "        vertical-align: middle;\n",
       "    }\n",
       "\n",
       "    .dataframe tbody tr th {\n",
       "        vertical-align: top;\n",
       "    }\n",
       "\n",
       "    .dataframe thead th {\n",
       "        text-align: right;\n",
       "    }\n",
       "</style>\n",
       "<table border=\"1\" class=\"dataframe\">\n",
       "  <thead>\n",
       "    <tr style=\"text-align: right;\">\n",
       "      <th></th>\n",
       "      <th>name</th>\n",
       "      <th>id</th>\n",
       "      <th>nametype</th>\n",
       "      <th>recclass</th>\n",
       "      <th>mass (g)</th>\n",
       "      <th>fall</th>\n",
       "      <th>year</th>\n",
       "      <th>reclat</th>\n",
       "      <th>reclong</th>\n",
       "      <th>GeoLocation</th>\n",
       "    </tr>\n",
       "  </thead>\n",
       "  <tbody>\n",
       "    <tr>\n",
       "      <th>0</th>\n",
       "      <td>Aachen</td>\n",
       "      <td>1</td>\n",
       "      <td>Valid</td>\n",
       "      <td>L5</td>\n",
       "      <td>21</td>\n",
       "      <td>Fell</td>\n",
       "      <td>01/01/1880 12:00:00 AM</td>\n",
       "      <td>50.77500</td>\n",
       "      <td>6.08333</td>\n",
       "      <td>(50.775, 6.08333)</td>\n",
       "    </tr>\n",
       "    <tr>\n",
       "      <th>1</th>\n",
       "      <td>Aarhus</td>\n",
       "      <td>2</td>\n",
       "      <td>Valid</td>\n",
       "      <td>H6</td>\n",
       "      <td>720</td>\n",
       "      <td>Fell</td>\n",
       "      <td>01/01/1951 12:00:00 AM</td>\n",
       "      <td>56.18333</td>\n",
       "      <td>10.23333</td>\n",
       "      <td>(56.18333, 10.23333)</td>\n",
       "    </tr>\n",
       "    <tr>\n",
       "      <th>2</th>\n",
       "      <td>Abee</td>\n",
       "      <td>6</td>\n",
       "      <td>Valid</td>\n",
       "      <td>EH4</td>\n",
       "      <td>107000</td>\n",
       "      <td>Fell</td>\n",
       "      <td>01/01/1952 12:00:00 AM</td>\n",
       "      <td>54.21667</td>\n",
       "      <td>-113.00000</td>\n",
       "      <td>(54.21667, -113.0)</td>\n",
       "    </tr>\n",
       "    <tr>\n",
       "      <th>3</th>\n",
       "      <td>Acapulco</td>\n",
       "      <td>10</td>\n",
       "      <td>Valid</td>\n",
       "      <td>Acapulcoite</td>\n",
       "      <td>1914</td>\n",
       "      <td>Fell</td>\n",
       "      <td>01/01/1976 12:00:00 AM</td>\n",
       "      <td>16.88333</td>\n",
       "      <td>-99.90000</td>\n",
       "      <td>(16.88333, -99.9)</td>\n",
       "    </tr>\n",
       "    <tr>\n",
       "      <th>4</th>\n",
       "      <td>Achiras</td>\n",
       "      <td>370</td>\n",
       "      <td>Valid</td>\n",
       "      <td>L6</td>\n",
       "      <td>780</td>\n",
       "      <td>Fell</td>\n",
       "      <td>01/01/1902 12:00:00 AM</td>\n",
       "      <td>-33.16667</td>\n",
       "      <td>-64.95000</td>\n",
       "      <td>(-33.16667, -64.95)</td>\n",
       "    </tr>\n",
       "  </tbody>\n",
       "</table>\n",
       "</div>"
      ],
      "text/plain": [
       "       name   id nametype     recclass  mass (g)  fall  \\\n",
       "0    Aachen    1    Valid           L5        21  Fell   \n",
       "1    Aarhus    2    Valid           H6       720  Fell   \n",
       "2      Abee    6    Valid          EH4    107000  Fell   \n",
       "3  Acapulco   10    Valid  Acapulcoite      1914  Fell   \n",
       "4   Achiras  370    Valid           L6       780  Fell   \n",
       "\n",
       "                     year    reclat    reclong           GeoLocation  \n",
       "0  01/01/1880 12:00:00 AM  50.77500    6.08333     (50.775, 6.08333)  \n",
       "1  01/01/1951 12:00:00 AM  56.18333   10.23333  (56.18333, 10.23333)  \n",
       "2  01/01/1952 12:00:00 AM  54.21667 -113.00000    (54.21667, -113.0)  \n",
       "3  01/01/1976 12:00:00 AM  16.88333  -99.90000     (16.88333, -99.9)  \n",
       "4  01/01/1902 12:00:00 AM -33.16667  -64.95000   (-33.16667, -64.95)  "
      ]
     },
     "execution_count": 14,
     "metadata": {},
     "output_type": "execute_result"
    }
   ],
   "source": [
    "import pandas as pd\n",
    "\n",
    "meteorites = pd.read_csv('./datasets/Meteorite_Landings.csv', nrows=5)\n",
    "meteorites"
   ]
  },
  {
   "cell_type": "markdown",
   "id": "a2bc2c17",
   "metadata": {},
   "source": [
    " \n",
    "*Source: [NASA's Open Data Portal](https://data.nasa.gov/Space-Science/Meteorite-Landings/gh4g-9sfh).*      "
   ]
  },
  {
   "cell_type": "markdown",
   "id": "9af98454",
   "metadata": {},
   "source": [
    "*Series:*"
   ]
  },
  {
   "cell_type": "code",
   "execution_count": 15,
   "id": "2c461cc9",
   "metadata": {},
   "outputs": [
    {
     "data": {
      "text/plain": [
       "0      Aachen\n",
       "1      Aarhus\n",
       "2        Abee\n",
       "3    Acapulco\n",
       "4     Achiras\n",
       "Name: name, dtype: object"
      ]
     },
     "execution_count": 15,
     "metadata": {},
     "output_type": "execute_result"
    }
   ],
   "source": [
    "meteorites.name"
   ]
  },
  {
   "cell_type": "markdown",
   "id": "7b2f4eda",
   "metadata": {},
   "source": [
    "*Colonne:*"
   ]
  },
  {
   "cell_type": "code",
   "execution_count": 16,
   "id": "49cd0127",
   "metadata": {},
   "outputs": [
    {
     "data": {
      "text/plain": [
       "Index(['name', 'id', 'nametype', 'recclass', 'mass (g)', 'fall', 'year',\n",
       "       'reclat', 'reclong', 'GeoLocation'],\n",
       "      dtype='object')"
      ]
     },
     "execution_count": 16,
     "metadata": {},
     "output_type": "execute_result"
    }
   ],
   "source": [
    "meteorites.columns"
   ]
  },
  {
   "cell_type": "markdown",
   "id": "3b6cf388",
   "metadata": {},
   "source": [
    "*Index*"
   ]
  },
  {
   "cell_type": "code",
   "execution_count": 17,
   "id": "89e3474b",
   "metadata": {},
   "outputs": [
    {
     "data": {
      "text/plain": [
       "RangeIndex(start=0, stop=5, step=1)"
      ]
     },
     "execution_count": 17,
     "metadata": {},
     "output_type": "execute_result"
    }
   ],
   "source": [
    "meteorites.index"
   ]
  },
  {
   "cell_type": "markdown",
   "id": "299f5ca2",
   "metadata": {},
   "source": [
    "## <font color='green'>Création de DataFrames</font> "
   ]
  },
  {
   "attachments": {},
   "cell_type": "markdown",
   "id": "031e4de7",
   "metadata": {},
   "source": [
    "Nous pouvons créer des **DataFrames** à partir de diverses sources, par exemple à partir d'autres objets Python, des fichiers plats, du webscraping et des requêtes API.  \n",
    "Ici, nous ne verrons que quelques exemples, mais vous pouvez consulter cette [page](https://pandas.pydata.org/pandas-docs/stable/user_guide/io.html) dans la documentation **Pandas** pour une liste complète."
   ]
  },
  {
   "cell_type": "code",
   "execution_count": 18,
   "id": "b696c567",
   "metadata": {},
   "outputs": [],
   "source": [
    "import pandas as pd\n",
    "\n",
    "meteorites = pd.read_csv('./datasets/Meteorite_Landings.csv')"
   ]
  },
  {
   "attachments": {},
   "cell_type": "markdown",
   "id": "990615e2",
   "metadata": {},
   "source": [
    "*Conseil : La fonction **read_csv()** admet plusieurs paramètres pour la lecture des fichiers –  consulter la [documentation](https://pandas.pydata.org/docs/reference/api/pandas.read_csv.html) pour plus de détail*."
   ]
  },
  {
   "cell_type": "markdown",
   "id": "030525c0",
   "metadata": {},
   "source": [
    "## <font color='green'>Inspecting the data</font> "
   ]
  },
  {
   "cell_type": "markdown",
   "id": "32a53019",
   "metadata": {},
   "source": [
    "Cela nous donne de l’information sur les données, le nombre de lignes/colonnes et la quantité de données que nous avons."
   ]
  },
  {
   "cell_type": "markdown",
   "id": "f9554315",
   "metadata": {},
   "source": [
    "**Combien de lignes et de colonnes y a-t-il**?"
   ]
  },
  {
   "cell_type": "code",
   "execution_count": 19,
   "id": "366ea171",
   "metadata": {},
   "outputs": [
    {
     "data": {
      "text/plain": [
       "(45716, 10)"
      ]
     },
     "execution_count": 19,
     "metadata": {},
     "output_type": "execute_result"
    }
   ],
   "source": [
    "meteorites.shape"
   ]
  },
  {
   "cell_type": "markdown",
   "id": "618fb163",
   "metadata": {},
   "source": [
    "**Quelles sont les noms des colonnes**?"
   ]
  },
  {
   "cell_type": "code",
   "execution_count": 20,
   "id": "be38cab0",
   "metadata": {},
   "outputs": [
    {
     "data": {
      "text/plain": [
       "Index(['name', 'id', 'nametype', 'recclass', 'mass (g)', 'fall', 'year',\n",
       "       'reclat', 'reclong', 'GeoLocation'],\n",
       "      dtype='object')"
      ]
     },
     "execution_count": 20,
     "metadata": {},
     "output_type": "execute_result"
    }
   ],
   "source": [
    "meteorites.columns"
   ]
  },
  {
   "cell_type": "markdown",
   "id": "bf5c0899",
   "metadata": {},
   "source": [
    "**Quels sont les types des colonnes**?"
   ]
  },
  {
   "cell_type": "code",
   "execution_count": 21,
   "id": "80613dc8",
   "metadata": {},
   "outputs": [
    {
     "data": {
      "text/plain": [
       "name            object\n",
       "id               int64\n",
       "nametype        object\n",
       "recclass        object\n",
       "mass (g)       float64\n",
       "fall            object\n",
       "year            object\n",
       "reclat         float64\n",
       "reclong        float64\n",
       "GeoLocation     object\n",
       "dtype: object"
      ]
     },
     "execution_count": 21,
     "metadata": {},
     "output_type": "execute_result"
    }
   ],
   "source": [
    "meteorites.dtypes"
   ]
  },
  {
   "cell_type": "markdown",
   "id": "02794e0c",
   "metadata": {},
   "source": [
    "**À quoi ressemblent les données?**"
   ]
  },
  {
   "cell_type": "code",
   "execution_count": 22,
   "id": "426e02bc",
   "metadata": {},
   "outputs": [
    {
     "data": {
      "text/html": [
       "<div>\n",
       "<style scoped>\n",
       "    .dataframe tbody tr th:only-of-type {\n",
       "        vertical-align: middle;\n",
       "    }\n",
       "\n",
       "    .dataframe tbody tr th {\n",
       "        vertical-align: top;\n",
       "    }\n",
       "\n",
       "    .dataframe thead th {\n",
       "        text-align: right;\n",
       "    }\n",
       "</style>\n",
       "<table border=\"1\" class=\"dataframe\">\n",
       "  <thead>\n",
       "    <tr style=\"text-align: right;\">\n",
       "      <th></th>\n",
       "      <th>name</th>\n",
       "      <th>id</th>\n",
       "      <th>nametype</th>\n",
       "      <th>recclass</th>\n",
       "      <th>mass (g)</th>\n",
       "      <th>fall</th>\n",
       "      <th>year</th>\n",
       "      <th>reclat</th>\n",
       "      <th>reclong</th>\n",
       "      <th>GeoLocation</th>\n",
       "    </tr>\n",
       "  </thead>\n",
       "  <tbody>\n",
       "    <tr>\n",
       "      <th>0</th>\n",
       "      <td>Aachen</td>\n",
       "      <td>1</td>\n",
       "      <td>Valid</td>\n",
       "      <td>L5</td>\n",
       "      <td>21.0</td>\n",
       "      <td>Fell</td>\n",
       "      <td>01/01/1880 12:00:00 AM</td>\n",
       "      <td>50.77500</td>\n",
       "      <td>6.08333</td>\n",
       "      <td>(50.775, 6.08333)</td>\n",
       "    </tr>\n",
       "    <tr>\n",
       "      <th>1</th>\n",
       "      <td>Aarhus</td>\n",
       "      <td>2</td>\n",
       "      <td>Valid</td>\n",
       "      <td>H6</td>\n",
       "      <td>720.0</td>\n",
       "      <td>Fell</td>\n",
       "      <td>01/01/1951 12:00:00 AM</td>\n",
       "      <td>56.18333</td>\n",
       "      <td>10.23333</td>\n",
       "      <td>(56.18333, 10.23333)</td>\n",
       "    </tr>\n",
       "    <tr>\n",
       "      <th>2</th>\n",
       "      <td>Abee</td>\n",
       "      <td>6</td>\n",
       "      <td>Valid</td>\n",
       "      <td>EH4</td>\n",
       "      <td>107000.0</td>\n",
       "      <td>Fell</td>\n",
       "      <td>01/01/1952 12:00:00 AM</td>\n",
       "      <td>54.21667</td>\n",
       "      <td>-113.00000</td>\n",
       "      <td>(54.21667, -113.0)</td>\n",
       "    </tr>\n",
       "    <tr>\n",
       "      <th>3</th>\n",
       "      <td>Acapulco</td>\n",
       "      <td>10</td>\n",
       "      <td>Valid</td>\n",
       "      <td>Acapulcoite</td>\n",
       "      <td>1914.0</td>\n",
       "      <td>Fell</td>\n",
       "      <td>01/01/1976 12:00:00 AM</td>\n",
       "      <td>16.88333</td>\n",
       "      <td>-99.90000</td>\n",
       "      <td>(16.88333, -99.9)</td>\n",
       "    </tr>\n",
       "    <tr>\n",
       "      <th>4</th>\n",
       "      <td>Achiras</td>\n",
       "      <td>370</td>\n",
       "      <td>Valid</td>\n",
       "      <td>L6</td>\n",
       "      <td>780.0</td>\n",
       "      <td>Fell</td>\n",
       "      <td>01/01/1902 12:00:00 AM</td>\n",
       "      <td>-33.16667</td>\n",
       "      <td>-64.95000</td>\n",
       "      <td>(-33.16667, -64.95)</td>\n",
       "    </tr>\n",
       "  </tbody>\n",
       "</table>\n",
       "</div>"
      ],
      "text/plain": [
       "       name   id nametype     recclass  mass (g)  fall  \\\n",
       "0    Aachen    1    Valid           L5      21.0  Fell   \n",
       "1    Aarhus    2    Valid           H6     720.0  Fell   \n",
       "2      Abee    6    Valid          EH4  107000.0  Fell   \n",
       "3  Acapulco   10    Valid  Acapulcoite    1914.0  Fell   \n",
       "4   Achiras  370    Valid           L6     780.0  Fell   \n",
       "\n",
       "                     year    reclat    reclong           GeoLocation  \n",
       "0  01/01/1880 12:00:00 AM  50.77500    6.08333     (50.775, 6.08333)  \n",
       "1  01/01/1951 12:00:00 AM  56.18333   10.23333  (56.18333, 10.23333)  \n",
       "2  01/01/1952 12:00:00 AM  54.21667 -113.00000    (54.21667, -113.0)  \n",
       "3  01/01/1976 12:00:00 AM  16.88333  -99.90000     (16.88333, -99.9)  \n",
       "4  01/01/1902 12:00:00 AM -33.16667  -64.95000   (-33.16667, -64.95)  "
      ]
     },
     "execution_count": 22,
     "metadata": {},
     "output_type": "execute_result"
    }
   ],
   "source": [
    "meteorites.head()"
   ]
  },
  {
   "cell_type": "code",
   "execution_count": 23,
   "id": "ff947ff5",
   "metadata": {},
   "outputs": [
    {
     "data": {
      "text/html": [
       "<div>\n",
       "<style scoped>\n",
       "    .dataframe tbody tr th:only-of-type {\n",
       "        vertical-align: middle;\n",
       "    }\n",
       "\n",
       "    .dataframe tbody tr th {\n",
       "        vertical-align: top;\n",
       "    }\n",
       "\n",
       "    .dataframe thead th {\n",
       "        text-align: right;\n",
       "    }\n",
       "</style>\n",
       "<table border=\"1\" class=\"dataframe\">\n",
       "  <thead>\n",
       "    <tr style=\"text-align: right;\">\n",
       "      <th></th>\n",
       "      <th>name</th>\n",
       "      <th>id</th>\n",
       "      <th>nametype</th>\n",
       "      <th>recclass</th>\n",
       "      <th>mass (g)</th>\n",
       "      <th>fall</th>\n",
       "      <th>year</th>\n",
       "      <th>reclat</th>\n",
       "      <th>reclong</th>\n",
       "      <th>GeoLocation</th>\n",
       "    </tr>\n",
       "  </thead>\n",
       "  <tbody>\n",
       "    <tr>\n",
       "      <th>45711</th>\n",
       "      <td>Zillah 002</td>\n",
       "      <td>31356</td>\n",
       "      <td>Valid</td>\n",
       "      <td>Eucrite</td>\n",
       "      <td>172.0</td>\n",
       "      <td>Found</td>\n",
       "      <td>01/01/1990 12:00:00 AM</td>\n",
       "      <td>29.03700</td>\n",
       "      <td>17.01850</td>\n",
       "      <td>(29.037, 17.0185)</td>\n",
       "    </tr>\n",
       "    <tr>\n",
       "      <th>45712</th>\n",
       "      <td>Zinder</td>\n",
       "      <td>30409</td>\n",
       "      <td>Valid</td>\n",
       "      <td>Pallasite, ungrouped</td>\n",
       "      <td>46.0</td>\n",
       "      <td>Found</td>\n",
       "      <td>01/01/1999 12:00:00 AM</td>\n",
       "      <td>13.78333</td>\n",
       "      <td>8.96667</td>\n",
       "      <td>(13.78333, 8.96667)</td>\n",
       "    </tr>\n",
       "    <tr>\n",
       "      <th>45713</th>\n",
       "      <td>Zlin</td>\n",
       "      <td>30410</td>\n",
       "      <td>Valid</td>\n",
       "      <td>H4</td>\n",
       "      <td>3.3</td>\n",
       "      <td>Found</td>\n",
       "      <td>01/01/1939 12:00:00 AM</td>\n",
       "      <td>49.25000</td>\n",
       "      <td>17.66667</td>\n",
       "      <td>(49.25, 17.66667)</td>\n",
       "    </tr>\n",
       "    <tr>\n",
       "      <th>45714</th>\n",
       "      <td>Zubkovsky</td>\n",
       "      <td>31357</td>\n",
       "      <td>Valid</td>\n",
       "      <td>L6</td>\n",
       "      <td>2167.0</td>\n",
       "      <td>Found</td>\n",
       "      <td>01/01/2003 12:00:00 AM</td>\n",
       "      <td>49.78917</td>\n",
       "      <td>41.50460</td>\n",
       "      <td>(49.78917, 41.5046)</td>\n",
       "    </tr>\n",
       "    <tr>\n",
       "      <th>45715</th>\n",
       "      <td>Zulu Queen</td>\n",
       "      <td>30414</td>\n",
       "      <td>Valid</td>\n",
       "      <td>L3.7</td>\n",
       "      <td>200.0</td>\n",
       "      <td>Found</td>\n",
       "      <td>01/01/1976 12:00:00 AM</td>\n",
       "      <td>33.98333</td>\n",
       "      <td>-115.68333</td>\n",
       "      <td>(33.98333, -115.68333)</td>\n",
       "    </tr>\n",
       "  </tbody>\n",
       "</table>\n",
       "</div>"
      ],
      "text/plain": [
       "             name     id nametype              recclass  mass (g)   fall  \\\n",
       "45711  Zillah 002  31356    Valid               Eucrite     172.0  Found   \n",
       "45712      Zinder  30409    Valid  Pallasite, ungrouped      46.0  Found   \n",
       "45713        Zlin  30410    Valid                    H4       3.3  Found   \n",
       "45714   Zubkovsky  31357    Valid                    L6    2167.0  Found   \n",
       "45715  Zulu Queen  30414    Valid                  L3.7     200.0  Found   \n",
       "\n",
       "                         year    reclat    reclong             GeoLocation  \n",
       "45711  01/01/1990 12:00:00 AM  29.03700   17.01850       (29.037, 17.0185)  \n",
       "45712  01/01/1999 12:00:00 AM  13.78333    8.96667     (13.78333, 8.96667)  \n",
       "45713  01/01/1939 12:00:00 AM  49.25000   17.66667       (49.25, 17.66667)  \n",
       "45714  01/01/2003 12:00:00 AM  49.78917   41.50460     (49.78917, 41.5046)  \n",
       "45715  01/01/1976 12:00:00 AM  33.98333 -115.68333  (33.98333, -115.68333)  "
      ]
     },
     "execution_count": 23,
     "metadata": {},
     "output_type": "execute_result"
    }
   ],
   "source": [
    "meteorites.tail()"
   ]
  },
  {
   "cell_type": "markdown",
   "id": "30b4b17e",
   "metadata": {},
   "source": [
    "**Obtenir des informations sur le DataFrame**"
   ]
  },
  {
   "cell_type": "code",
   "execution_count": 24,
   "id": "5d4b82e3",
   "metadata": {},
   "outputs": [
    {
     "name": "stdout",
     "output_type": "stream",
     "text": [
      "<class 'pandas.core.frame.DataFrame'>\n",
      "RangeIndex: 45716 entries, 0 to 45715\n",
      "Data columns (total 10 columns):\n",
      " #   Column       Non-Null Count  Dtype  \n",
      "---  ------       --------------  -----  \n",
      " 0   name         45716 non-null  object \n",
      " 1   id           45716 non-null  int64  \n",
      " 2   nametype     45716 non-null  object \n",
      " 3   recclass     45716 non-null  object \n",
      " 4   mass (g)     45585 non-null  float64\n",
      " 5   fall         45716 non-null  object \n",
      " 6   year         45425 non-null  object \n",
      " 7   reclat       38401 non-null  float64\n",
      " 8   reclong      38401 non-null  float64\n",
      " 9   GeoLocation  38401 non-null  object \n",
      "dtypes: float64(3), int64(1), object(6)\n",
      "memory usage: 3.5+ MB\n"
     ]
    }
   ],
   "source": [
    "meteorites.info()"
   ]
  },
  {
   "cell_type": "markdown",
   "id": "b7445bdd",
   "metadata": {},
   "source": [
    "**Extraction de sous-ensembles**"
   ]
  },
  {
   "attachments": {},
   "cell_type": "markdown",
   "id": "80e1daaf",
   "metadata": {},
   "source": [
    "Une partie cruciale de la manipulation des DataFrames consiste à extraire des sous-ensembles de données : trouver des lignes qui répondent à un certain ensemble de critères, isoler des colonnes/lignes d’intérêt, etc.   \n",
    "Après avoir réduit nos données, nous sommes plus près de découvrir des idées. Cette section sera l’épine dorsale de nombreuses tâches d’analyse."
   ]
  },
  {
   "cell_type": "markdown",
   "id": "4f160380",
   "metadata": {},
   "source": [
    "**Sélection des colonnes**"
   ]
  },
  {
   "cell_type": "markdown",
   "id": "641ab53c",
   "metadata": {},
   "source": [
    "Nous pouvons sélectionner des colonnes comme attributs si leurs noms sont des variables Python valides :"
   ]
  },
  {
   "cell_type": "code",
   "execution_count": 25,
   "id": "12e413e8",
   "metadata": {},
   "outputs": [
    {
     "data": {
      "text/plain": [
       "0            Aachen\n",
       "1            Aarhus\n",
       "2              Abee\n",
       "3          Acapulco\n",
       "4           Achiras\n",
       "            ...    \n",
       "45711    Zillah 002\n",
       "45712        Zinder\n",
       "45713          Zlin\n",
       "45714     Zubkovsky\n",
       "45715    Zulu Queen\n",
       "Name: name, Length: 45716, dtype: object"
      ]
     },
     "execution_count": 25,
     "metadata": {},
     "output_type": "execute_result"
    }
   ],
   "source": [
    "meteorites.name"
   ]
  },
  {
   "cell_type": "markdown",
   "id": "aec416a3",
   "metadata": {},
   "source": [
    "Nous pouvons sélectionner plusieurs colonnes à la fois"
   ]
  },
  {
   "cell_type": "code",
   "execution_count": 26,
   "id": "3a2c7ab6",
   "metadata": {},
   "outputs": [
    {
     "data": {
      "text/html": [
       "<div>\n",
       "<style scoped>\n",
       "    .dataframe tbody tr th:only-of-type {\n",
       "        vertical-align: middle;\n",
       "    }\n",
       "\n",
       "    .dataframe tbody tr th {\n",
       "        vertical-align: top;\n",
       "    }\n",
       "\n",
       "    .dataframe thead th {\n",
       "        text-align: right;\n",
       "    }\n",
       "</style>\n",
       "<table border=\"1\" class=\"dataframe\">\n",
       "  <thead>\n",
       "    <tr style=\"text-align: right;\">\n",
       "      <th></th>\n",
       "      <th>name</th>\n",
       "      <th>mass (g)</th>\n",
       "    </tr>\n",
       "  </thead>\n",
       "  <tbody>\n",
       "    <tr>\n",
       "      <th>0</th>\n",
       "      <td>Aachen</td>\n",
       "      <td>21.0</td>\n",
       "    </tr>\n",
       "    <tr>\n",
       "      <th>1</th>\n",
       "      <td>Aarhus</td>\n",
       "      <td>720.0</td>\n",
       "    </tr>\n",
       "    <tr>\n",
       "      <th>2</th>\n",
       "      <td>Abee</td>\n",
       "      <td>107000.0</td>\n",
       "    </tr>\n",
       "    <tr>\n",
       "      <th>3</th>\n",
       "      <td>Acapulco</td>\n",
       "      <td>1914.0</td>\n",
       "    </tr>\n",
       "    <tr>\n",
       "      <th>4</th>\n",
       "      <td>Achiras</td>\n",
       "      <td>780.0</td>\n",
       "    </tr>\n",
       "    <tr>\n",
       "      <th>...</th>\n",
       "      <td>...</td>\n",
       "      <td>...</td>\n",
       "    </tr>\n",
       "    <tr>\n",
       "      <th>45711</th>\n",
       "      <td>Zillah 002</td>\n",
       "      <td>172.0</td>\n",
       "    </tr>\n",
       "    <tr>\n",
       "      <th>45712</th>\n",
       "      <td>Zinder</td>\n",
       "      <td>46.0</td>\n",
       "    </tr>\n",
       "    <tr>\n",
       "      <th>45713</th>\n",
       "      <td>Zlin</td>\n",
       "      <td>3.3</td>\n",
       "    </tr>\n",
       "    <tr>\n",
       "      <th>45714</th>\n",
       "      <td>Zubkovsky</td>\n",
       "      <td>2167.0</td>\n",
       "    </tr>\n",
       "    <tr>\n",
       "      <th>45715</th>\n",
       "      <td>Zulu Queen</td>\n",
       "      <td>200.0</td>\n",
       "    </tr>\n",
       "  </tbody>\n",
       "</table>\n",
       "<p>45716 rows × 2 columns</p>\n",
       "</div>"
      ],
      "text/plain": [
       "             name  mass (g)\n",
       "0          Aachen      21.0\n",
       "1          Aarhus     720.0\n",
       "2            Abee  107000.0\n",
       "3        Acapulco    1914.0\n",
       "4         Achiras     780.0\n",
       "...           ...       ...\n",
       "45711  Zillah 002     172.0\n",
       "45712      Zinder      46.0\n",
       "45713        Zlin       3.3\n",
       "45714   Zubkovsky    2167.0\n",
       "45715  Zulu Queen     200.0\n",
       "\n",
       "[45716 rows x 2 columns]"
      ]
     },
     "execution_count": 26,
     "metadata": {},
     "output_type": "execute_result"
    }
   ],
   "source": [
    "meteorites[['name', 'mass (g)']]"
   ]
  },
  {
   "cell_type": "markdown",
   "id": "8c05f653",
   "metadata": {},
   "source": [
    "**Selection des lignes**"
   ]
  },
  {
   "cell_type": "code",
   "execution_count": 27,
   "id": "18426cd3",
   "metadata": {},
   "outputs": [
    {
     "data": {
      "text/html": [
       "<div>\n",
       "<style scoped>\n",
       "    .dataframe tbody tr th:only-of-type {\n",
       "        vertical-align: middle;\n",
       "    }\n",
       "\n",
       "    .dataframe tbody tr th {\n",
       "        vertical-align: top;\n",
       "    }\n",
       "\n",
       "    .dataframe thead th {\n",
       "        text-align: right;\n",
       "    }\n",
       "</style>\n",
       "<table border=\"1\" class=\"dataframe\">\n",
       "  <thead>\n",
       "    <tr style=\"text-align: right;\">\n",
       "      <th></th>\n",
       "      <th>name</th>\n",
       "      <th>id</th>\n",
       "      <th>nametype</th>\n",
       "      <th>recclass</th>\n",
       "      <th>mass (g)</th>\n",
       "      <th>fall</th>\n",
       "      <th>year</th>\n",
       "      <th>reclat</th>\n",
       "      <th>reclong</th>\n",
       "      <th>GeoLocation</th>\n",
       "    </tr>\n",
       "  </thead>\n",
       "  <tbody>\n",
       "    <tr>\n",
       "      <th>100</th>\n",
       "      <td>Benton</td>\n",
       "      <td>5026</td>\n",
       "      <td>Valid</td>\n",
       "      <td>LL6</td>\n",
       "      <td>2840.0</td>\n",
       "      <td>Fell</td>\n",
       "      <td>01/01/1949 12:00:00 AM</td>\n",
       "      <td>45.95000</td>\n",
       "      <td>-67.55000</td>\n",
       "      <td>(45.95, -67.55)</td>\n",
       "    </tr>\n",
       "    <tr>\n",
       "      <th>101</th>\n",
       "      <td>Berduc</td>\n",
       "      <td>48975</td>\n",
       "      <td>Valid</td>\n",
       "      <td>L6</td>\n",
       "      <td>270.0</td>\n",
       "      <td>Fell</td>\n",
       "      <td>01/01/2008 12:00:00 AM</td>\n",
       "      <td>-31.91000</td>\n",
       "      <td>-58.32833</td>\n",
       "      <td>(-31.91, -58.32833)</td>\n",
       "    </tr>\n",
       "    <tr>\n",
       "      <th>102</th>\n",
       "      <td>Béréba</td>\n",
       "      <td>5028</td>\n",
       "      <td>Valid</td>\n",
       "      <td>Eucrite-mmict</td>\n",
       "      <td>18000.0</td>\n",
       "      <td>Fell</td>\n",
       "      <td>01/01/1924 12:00:00 AM</td>\n",
       "      <td>11.65000</td>\n",
       "      <td>-3.65000</td>\n",
       "      <td>(11.65, -3.65)</td>\n",
       "    </tr>\n",
       "    <tr>\n",
       "      <th>103</th>\n",
       "      <td>Berlanguillas</td>\n",
       "      <td>5029</td>\n",
       "      <td>Valid</td>\n",
       "      <td>L6</td>\n",
       "      <td>1440.0</td>\n",
       "      <td>Fell</td>\n",
       "      <td>01/01/1811 12:00:00 AM</td>\n",
       "      <td>41.68333</td>\n",
       "      <td>-3.80000</td>\n",
       "      <td>(41.68333, -3.8)</td>\n",
       "    </tr>\n",
       "  </tbody>\n",
       "</table>\n",
       "</div>"
      ],
      "text/plain": [
       "              name     id nametype       recclass  mass (g)  fall  \\\n",
       "100         Benton   5026    Valid            LL6    2840.0  Fell   \n",
       "101         Berduc  48975    Valid             L6     270.0  Fell   \n",
       "102         Béréba   5028    Valid  Eucrite-mmict   18000.0  Fell   \n",
       "103  Berlanguillas   5029    Valid             L6    1440.0  Fell   \n",
       "\n",
       "                       year    reclat   reclong          GeoLocation  \n",
       "100  01/01/1949 12:00:00 AM  45.95000 -67.55000      (45.95, -67.55)  \n",
       "101  01/01/2008 12:00:00 AM -31.91000 -58.32833  (-31.91, -58.32833)  \n",
       "102  01/01/1924 12:00:00 AM  11.65000  -3.65000       (11.65, -3.65)  \n",
       "103  01/01/1811 12:00:00 AM  41.68333  -3.80000     (41.68333, -3.8)  "
      ]
     },
     "execution_count": 27,
     "metadata": {},
     "output_type": "execute_result"
    }
   ],
   "source": [
    "meteorites[100:104]"
   ]
  },
  {
   "cell_type": "markdown",
   "id": "259635c8",
   "metadata": {},
   "source": [
    "**Indexing**"
   ]
  },
  {
   "cell_type": "markdown",
   "id": "1d4571c2",
   "metadata": {},
   "source": [
    "Nous utilisons <font color='blue'>**iloc[ ]**</font> pour sélectionner des lignes et des colonnes par **position/rang**:"
   ]
  },
  {
   "cell_type": "code",
   "execution_count": 28,
   "id": "557f05bd",
   "metadata": {},
   "outputs": [
    {
     "data": {
      "text/html": [
       "<div>\n",
       "<style scoped>\n",
       "    .dataframe tbody tr th:only-of-type {\n",
       "        vertical-align: middle;\n",
       "    }\n",
       "\n",
       "    .dataframe tbody tr th {\n",
       "        vertical-align: top;\n",
       "    }\n",
       "\n",
       "    .dataframe thead th {\n",
       "        text-align: right;\n",
       "    }\n",
       "</style>\n",
       "<table border=\"1\" class=\"dataframe\">\n",
       "  <thead>\n",
       "    <tr style=\"text-align: right;\">\n",
       "      <th></th>\n",
       "      <th>name</th>\n",
       "      <th>recclass</th>\n",
       "      <th>mass (g)</th>\n",
       "      <th>year</th>\n",
       "    </tr>\n",
       "  </thead>\n",
       "  <tbody>\n",
       "    <tr>\n",
       "      <th>100</th>\n",
       "      <td>Benton</td>\n",
       "      <td>LL6</td>\n",
       "      <td>2840.0</td>\n",
       "      <td>01/01/1949 12:00:00 AM</td>\n",
       "    </tr>\n",
       "    <tr>\n",
       "      <th>101</th>\n",
       "      <td>Berduc</td>\n",
       "      <td>L6</td>\n",
       "      <td>270.0</td>\n",
       "      <td>01/01/2008 12:00:00 AM</td>\n",
       "    </tr>\n",
       "    <tr>\n",
       "      <th>102</th>\n",
       "      <td>Béréba</td>\n",
       "      <td>Eucrite-mmict</td>\n",
       "      <td>18000.0</td>\n",
       "      <td>01/01/1924 12:00:00 AM</td>\n",
       "    </tr>\n",
       "    <tr>\n",
       "      <th>103</th>\n",
       "      <td>Berlanguillas</td>\n",
       "      <td>L6</td>\n",
       "      <td>1440.0</td>\n",
       "      <td>01/01/1811 12:00:00 AM</td>\n",
       "    </tr>\n",
       "  </tbody>\n",
       "</table>\n",
       "</div>"
      ],
      "text/plain": [
       "              name       recclass  mass (g)                    year\n",
       "100         Benton            LL6    2840.0  01/01/1949 12:00:00 AM\n",
       "101         Berduc             L6     270.0  01/01/2008 12:00:00 AM\n",
       "102         Béréba  Eucrite-mmict   18000.0  01/01/1924 12:00:00 AM\n",
       "103  Berlanguillas             L6    1440.0  01/01/1811 12:00:00 AM"
      ]
     },
     "execution_count": 28,
     "metadata": {},
     "output_type": "execute_result"
    }
   ],
   "source": [
    "meteorites.iloc[100:104, [0, 3, 4, 6]]"
   ]
  },
  {
   "cell_type": "markdown",
   "id": "2124428d",
   "metadata": {},
   "source": [
    "Nous utilison **loc[ ]** pour sélectionner par **nom**"
   ]
  },
  {
   "cell_type": "code",
   "execution_count": 29,
   "id": "73c0998c",
   "metadata": {},
   "outputs": [
    {
     "data": {
      "text/html": [
       "<div>\n",
       "<style scoped>\n",
       "    .dataframe tbody tr th:only-of-type {\n",
       "        vertical-align: middle;\n",
       "    }\n",
       "\n",
       "    .dataframe tbody tr th {\n",
       "        vertical-align: top;\n",
       "    }\n",
       "\n",
       "    .dataframe thead th {\n",
       "        text-align: right;\n",
       "    }\n",
       "</style>\n",
       "<table border=\"1\" class=\"dataframe\">\n",
       "  <thead>\n",
       "    <tr style=\"text-align: right;\">\n",
       "      <th></th>\n",
       "      <th>mass (g)</th>\n",
       "      <th>fall</th>\n",
       "      <th>year</th>\n",
       "    </tr>\n",
       "  </thead>\n",
       "  <tbody>\n",
       "    <tr>\n",
       "      <th>100</th>\n",
       "      <td>2840.0</td>\n",
       "      <td>Fell</td>\n",
       "      <td>01/01/1949 12:00:00 AM</td>\n",
       "    </tr>\n",
       "    <tr>\n",
       "      <th>101</th>\n",
       "      <td>270.0</td>\n",
       "      <td>Fell</td>\n",
       "      <td>01/01/2008 12:00:00 AM</td>\n",
       "    </tr>\n",
       "    <tr>\n",
       "      <th>102</th>\n",
       "      <td>18000.0</td>\n",
       "      <td>Fell</td>\n",
       "      <td>01/01/1924 12:00:00 AM</td>\n",
       "    </tr>\n",
       "    <tr>\n",
       "      <th>103</th>\n",
       "      <td>1440.0</td>\n",
       "      <td>Fell</td>\n",
       "      <td>01/01/1811 12:00:00 AM</td>\n",
       "    </tr>\n",
       "    <tr>\n",
       "      <th>104</th>\n",
       "      <td>960.0</td>\n",
       "      <td>Fell</td>\n",
       "      <td>01/01/2004 12:00:00 AM</td>\n",
       "    </tr>\n",
       "  </tbody>\n",
       "</table>\n",
       "</div>"
      ],
      "text/plain": [
       "     mass (g)  fall                    year\n",
       "100    2840.0  Fell  01/01/1949 12:00:00 AM\n",
       "101     270.0  Fell  01/01/2008 12:00:00 AM\n",
       "102   18000.0  Fell  01/01/1924 12:00:00 AM\n",
       "103    1440.0  Fell  01/01/1811 12:00:00 AM\n",
       "104     960.0  Fell  01/01/2004 12:00:00 AM"
      ]
     },
     "execution_count": 29,
     "metadata": {},
     "output_type": "execute_result"
    }
   ],
   "source": [
    "meteorites.loc[100:104, 'mass (g)':'year']"
   ]
  },
  {
   "cell_type": "markdown",
   "id": "887700ba",
   "metadata": {},
   "source": [
    "**Filtrage avec masques booléens**"
   ]
  },
  {
   "cell_type": "markdown",
   "id": "1664a571",
   "metadata": {},
   "source": [
    "Un masque booléen est une structure de type **tableau de valeurs booléennes** – c’est une façon de spécifier quelles lignes/colonnes nous voulons sélectionner **(True)** et lesquelles nous ne voulons pas **(False)**.\n",
    "\n",
    "Voici un exemple de masque booléen pour les météorites pesant plus de 50 grammes *(mass (g) > 50)* et qui ont été trouvés sur Terre *(fall == 'Found')*:\n",
    "\n"
   ]
  },
  {
   "cell_type": "code",
   "execution_count": 30,
   "id": "74c3d139",
   "metadata": {},
   "outputs": [
    {
     "data": {
      "text/html": [
       "<div>\n",
       "<style scoped>\n",
       "    .dataframe tbody tr th:only-of-type {\n",
       "        vertical-align: middle;\n",
       "    }\n",
       "\n",
       "    .dataframe tbody tr th {\n",
       "        vertical-align: top;\n",
       "    }\n",
       "\n",
       "    .dataframe thead th {\n",
       "        text-align: right;\n",
       "    }\n",
       "</style>\n",
       "<table border=\"1\" class=\"dataframe\">\n",
       "  <thead>\n",
       "    <tr style=\"text-align: right;\">\n",
       "      <th></th>\n",
       "      <th>name</th>\n",
       "      <th>id</th>\n",
       "      <th>nametype</th>\n",
       "      <th>recclass</th>\n",
       "      <th>mass (g)</th>\n",
       "      <th>fall</th>\n",
       "      <th>year</th>\n",
       "      <th>reclat</th>\n",
       "      <th>reclong</th>\n",
       "      <th>GeoLocation</th>\n",
       "    </tr>\n",
       "  </thead>\n",
       "  <tbody>\n",
       "    <tr>\n",
       "      <th>37</th>\n",
       "      <td>Northwest Africa 5815</td>\n",
       "      <td>50693</td>\n",
       "      <td>Valid</td>\n",
       "      <td>L5</td>\n",
       "      <td>256.80</td>\n",
       "      <td>Found</td>\n",
       "      <td>NaN</td>\n",
       "      <td>0.00000</td>\n",
       "      <td>0.00000</td>\n",
       "      <td>(0.0, 0.0)</td>\n",
       "    </tr>\n",
       "    <tr>\n",
       "      <th>757</th>\n",
       "      <td>Dominion Range 03239</td>\n",
       "      <td>32591</td>\n",
       "      <td>Valid</td>\n",
       "      <td>L6</td>\n",
       "      <td>69.50</td>\n",
       "      <td>Found</td>\n",
       "      <td>01/01/2002 12:00:00 AM</td>\n",
       "      <td>NaN</td>\n",
       "      <td>NaN</td>\n",
       "      <td>NaN</td>\n",
       "    </tr>\n",
       "    <tr>\n",
       "      <th>804</th>\n",
       "      <td>Dominion Range 03240</td>\n",
       "      <td>32592</td>\n",
       "      <td>Valid</td>\n",
       "      <td>LL5</td>\n",
       "      <td>290.90</td>\n",
       "      <td>Found</td>\n",
       "      <td>01/01/2002 12:00:00 AM</td>\n",
       "      <td>NaN</td>\n",
       "      <td>NaN</td>\n",
       "      <td>NaN</td>\n",
       "    </tr>\n",
       "    <tr>\n",
       "      <th>1111</th>\n",
       "      <td>Abajo</td>\n",
       "      <td>4</td>\n",
       "      <td>Valid</td>\n",
       "      <td>H5</td>\n",
       "      <td>331.00</td>\n",
       "      <td>Found</td>\n",
       "      <td>01/01/1982 12:00:00 AM</td>\n",
       "      <td>26.80000</td>\n",
       "      <td>-105.41667</td>\n",
       "      <td>(26.8, -105.41667)</td>\n",
       "    </tr>\n",
       "    <tr>\n",
       "      <th>1112</th>\n",
       "      <td>Abar al' Uj 001</td>\n",
       "      <td>51399</td>\n",
       "      <td>Valid</td>\n",
       "      <td>H3.8</td>\n",
       "      <td>194.34</td>\n",
       "      <td>Found</td>\n",
       "      <td>01/01/2008 12:00:00 AM</td>\n",
       "      <td>22.72192</td>\n",
       "      <td>48.95937</td>\n",
       "      <td>(22.72192, 48.95937)</td>\n",
       "    </tr>\n",
       "    <tr>\n",
       "      <th>...</th>\n",
       "      <td>...</td>\n",
       "      <td>...</td>\n",
       "      <td>...</td>\n",
       "      <td>...</td>\n",
       "      <td>...</td>\n",
       "      <td>...</td>\n",
       "      <td>...</td>\n",
       "      <td>...</td>\n",
       "      <td>...</td>\n",
       "      <td>...</td>\n",
       "    </tr>\n",
       "    <tr>\n",
       "      <th>45709</th>\n",
       "      <td>Zhongxiang</td>\n",
       "      <td>30406</td>\n",
       "      <td>Valid</td>\n",
       "      <td>Iron</td>\n",
       "      <td>100000.00</td>\n",
       "      <td>Found</td>\n",
       "      <td>01/01/1981 12:00:00 AM</td>\n",
       "      <td>31.20000</td>\n",
       "      <td>112.50000</td>\n",
       "      <td>(31.2, 112.5)</td>\n",
       "    </tr>\n",
       "    <tr>\n",
       "      <th>45710</th>\n",
       "      <td>Zillah 001</td>\n",
       "      <td>31355</td>\n",
       "      <td>Valid</td>\n",
       "      <td>L6</td>\n",
       "      <td>1475.00</td>\n",
       "      <td>Found</td>\n",
       "      <td>01/01/1990 12:00:00 AM</td>\n",
       "      <td>29.03700</td>\n",
       "      <td>17.01850</td>\n",
       "      <td>(29.037, 17.0185)</td>\n",
       "    </tr>\n",
       "    <tr>\n",
       "      <th>45711</th>\n",
       "      <td>Zillah 002</td>\n",
       "      <td>31356</td>\n",
       "      <td>Valid</td>\n",
       "      <td>Eucrite</td>\n",
       "      <td>172.00</td>\n",
       "      <td>Found</td>\n",
       "      <td>01/01/1990 12:00:00 AM</td>\n",
       "      <td>29.03700</td>\n",
       "      <td>17.01850</td>\n",
       "      <td>(29.037, 17.0185)</td>\n",
       "    </tr>\n",
       "    <tr>\n",
       "      <th>45714</th>\n",
       "      <td>Zubkovsky</td>\n",
       "      <td>31357</td>\n",
       "      <td>Valid</td>\n",
       "      <td>L6</td>\n",
       "      <td>2167.00</td>\n",
       "      <td>Found</td>\n",
       "      <td>01/01/2003 12:00:00 AM</td>\n",
       "      <td>49.78917</td>\n",
       "      <td>41.50460</td>\n",
       "      <td>(49.78917, 41.5046)</td>\n",
       "    </tr>\n",
       "    <tr>\n",
       "      <th>45715</th>\n",
       "      <td>Zulu Queen</td>\n",
       "      <td>30414</td>\n",
       "      <td>Valid</td>\n",
       "      <td>L3.7</td>\n",
       "      <td>200.00</td>\n",
       "      <td>Found</td>\n",
       "      <td>01/01/1976 12:00:00 AM</td>\n",
       "      <td>33.98333</td>\n",
       "      <td>-115.68333</td>\n",
       "      <td>(33.98333, -115.68333)</td>\n",
       "    </tr>\n",
       "  </tbody>\n",
       "</table>\n",
       "<p>18854 rows × 10 columns</p>\n",
       "</div>"
      ],
      "text/plain": [
       "                        name     id nametype recclass   mass (g)   fall  \\\n",
       "37     Northwest Africa 5815  50693    Valid       L5     256.80  Found   \n",
       "757     Dominion Range 03239  32591    Valid       L6      69.50  Found   \n",
       "804     Dominion Range 03240  32592    Valid      LL5     290.90  Found   \n",
       "1111                   Abajo      4    Valid       H5     331.00  Found   \n",
       "1112         Abar al' Uj 001  51399    Valid     H3.8     194.34  Found   \n",
       "...                      ...    ...      ...      ...        ...    ...   \n",
       "45709             Zhongxiang  30406    Valid     Iron  100000.00  Found   \n",
       "45710             Zillah 001  31355    Valid       L6    1475.00  Found   \n",
       "45711             Zillah 002  31356    Valid  Eucrite     172.00  Found   \n",
       "45714              Zubkovsky  31357    Valid       L6    2167.00  Found   \n",
       "45715             Zulu Queen  30414    Valid     L3.7     200.00  Found   \n",
       "\n",
       "                         year    reclat    reclong             GeoLocation  \n",
       "37                        NaN   0.00000    0.00000              (0.0, 0.0)  \n",
       "757    01/01/2002 12:00:00 AM       NaN        NaN                     NaN  \n",
       "804    01/01/2002 12:00:00 AM       NaN        NaN                     NaN  \n",
       "1111   01/01/1982 12:00:00 AM  26.80000 -105.41667      (26.8, -105.41667)  \n",
       "1112   01/01/2008 12:00:00 AM  22.72192   48.95937    (22.72192, 48.95937)  \n",
       "...                       ...       ...        ...                     ...  \n",
       "45709  01/01/1981 12:00:00 AM  31.20000  112.50000           (31.2, 112.5)  \n",
       "45710  01/01/1990 12:00:00 AM  29.03700   17.01850       (29.037, 17.0185)  \n",
       "45711  01/01/1990 12:00:00 AM  29.03700   17.01850       (29.037, 17.0185)  \n",
       "45714  01/01/2003 12:00:00 AM  49.78917   41.50460     (49.78917, 41.5046)  \n",
       "45715  01/01/1976 12:00:00 AM  33.98333 -115.68333  (33.98333, -115.68333)  \n",
       "\n",
       "[18854 rows x 10 columns]"
      ]
     },
     "execution_count": 30,
     "metadata": {},
     "output_type": "execute_result"
    }
   ],
   "source": [
    "meteorites[(meteorites['mass (g)'] > 50) & (meteorites.fall == 'Found')]"
   ]
  },
  {
   "cell_type": "markdown",
   "id": "1999e527",
   "metadata": {},
   "source": [
    "*Important : Concernant la syntaxe ici. Nous entourons chaque condition avec des parenthèses, et nous utilisons des opérateurs binaires (&, |, ~) pour désigner les opérateurs logiques (et, ou, pas).*"
   ]
  },
  {
   "cell_type": "markdown",
   "id": "bc840f76",
   "metadata": {},
   "source": [
    "Le filtrage peut être fait aussi par la fonction **query()**"
   ]
  },
  {
   "cell_type": "code",
   "execution_count": 31,
   "id": "b74949c7",
   "metadata": {},
   "outputs": [
    {
     "data": {
      "text/html": [
       "<div>\n",
       "<style scoped>\n",
       "    .dataframe tbody tr th:only-of-type {\n",
       "        vertical-align: middle;\n",
       "    }\n",
       "\n",
       "    .dataframe tbody tr th {\n",
       "        vertical-align: top;\n",
       "    }\n",
       "\n",
       "    .dataframe thead th {\n",
       "        text-align: right;\n",
       "    }\n",
       "</style>\n",
       "<table border=\"1\" class=\"dataframe\">\n",
       "  <thead>\n",
       "    <tr style=\"text-align: right;\">\n",
       "      <th></th>\n",
       "      <th>name</th>\n",
       "      <th>id</th>\n",
       "      <th>nametype</th>\n",
       "      <th>recclass</th>\n",
       "      <th>mass (g)</th>\n",
       "      <th>fall</th>\n",
       "      <th>year</th>\n",
       "      <th>reclat</th>\n",
       "      <th>reclong</th>\n",
       "      <th>GeoLocation</th>\n",
       "    </tr>\n",
       "  </thead>\n",
       "  <tbody>\n",
       "    <tr>\n",
       "      <th>37</th>\n",
       "      <td>Northwest Africa 5815</td>\n",
       "      <td>50693</td>\n",
       "      <td>Valid</td>\n",
       "      <td>L5</td>\n",
       "      <td>256.80</td>\n",
       "      <td>Found</td>\n",
       "      <td>NaN</td>\n",
       "      <td>0.00000</td>\n",
       "      <td>0.00000</td>\n",
       "      <td>(0.0, 0.0)</td>\n",
       "    </tr>\n",
       "    <tr>\n",
       "      <th>757</th>\n",
       "      <td>Dominion Range 03239</td>\n",
       "      <td>32591</td>\n",
       "      <td>Valid</td>\n",
       "      <td>L6</td>\n",
       "      <td>69.50</td>\n",
       "      <td>Found</td>\n",
       "      <td>01/01/2002 12:00:00 AM</td>\n",
       "      <td>NaN</td>\n",
       "      <td>NaN</td>\n",
       "      <td>NaN</td>\n",
       "    </tr>\n",
       "    <tr>\n",
       "      <th>804</th>\n",
       "      <td>Dominion Range 03240</td>\n",
       "      <td>32592</td>\n",
       "      <td>Valid</td>\n",
       "      <td>LL5</td>\n",
       "      <td>290.90</td>\n",
       "      <td>Found</td>\n",
       "      <td>01/01/2002 12:00:00 AM</td>\n",
       "      <td>NaN</td>\n",
       "      <td>NaN</td>\n",
       "      <td>NaN</td>\n",
       "    </tr>\n",
       "    <tr>\n",
       "      <th>1111</th>\n",
       "      <td>Abajo</td>\n",
       "      <td>4</td>\n",
       "      <td>Valid</td>\n",
       "      <td>H5</td>\n",
       "      <td>331.00</td>\n",
       "      <td>Found</td>\n",
       "      <td>01/01/1982 12:00:00 AM</td>\n",
       "      <td>26.80000</td>\n",
       "      <td>-105.41667</td>\n",
       "      <td>(26.8, -105.41667)</td>\n",
       "    </tr>\n",
       "    <tr>\n",
       "      <th>1112</th>\n",
       "      <td>Abar al' Uj 001</td>\n",
       "      <td>51399</td>\n",
       "      <td>Valid</td>\n",
       "      <td>H3.8</td>\n",
       "      <td>194.34</td>\n",
       "      <td>Found</td>\n",
       "      <td>01/01/2008 12:00:00 AM</td>\n",
       "      <td>22.72192</td>\n",
       "      <td>48.95937</td>\n",
       "      <td>(22.72192, 48.95937)</td>\n",
       "    </tr>\n",
       "    <tr>\n",
       "      <th>...</th>\n",
       "      <td>...</td>\n",
       "      <td>...</td>\n",
       "      <td>...</td>\n",
       "      <td>...</td>\n",
       "      <td>...</td>\n",
       "      <td>...</td>\n",
       "      <td>...</td>\n",
       "      <td>...</td>\n",
       "      <td>...</td>\n",
       "      <td>...</td>\n",
       "    </tr>\n",
       "    <tr>\n",
       "      <th>45709</th>\n",
       "      <td>Zhongxiang</td>\n",
       "      <td>30406</td>\n",
       "      <td>Valid</td>\n",
       "      <td>Iron</td>\n",
       "      <td>100000.00</td>\n",
       "      <td>Found</td>\n",
       "      <td>01/01/1981 12:00:00 AM</td>\n",
       "      <td>31.20000</td>\n",
       "      <td>112.50000</td>\n",
       "      <td>(31.2, 112.5)</td>\n",
       "    </tr>\n",
       "    <tr>\n",
       "      <th>45710</th>\n",
       "      <td>Zillah 001</td>\n",
       "      <td>31355</td>\n",
       "      <td>Valid</td>\n",
       "      <td>L6</td>\n",
       "      <td>1475.00</td>\n",
       "      <td>Found</td>\n",
       "      <td>01/01/1990 12:00:00 AM</td>\n",
       "      <td>29.03700</td>\n",
       "      <td>17.01850</td>\n",
       "      <td>(29.037, 17.0185)</td>\n",
       "    </tr>\n",
       "    <tr>\n",
       "      <th>45711</th>\n",
       "      <td>Zillah 002</td>\n",
       "      <td>31356</td>\n",
       "      <td>Valid</td>\n",
       "      <td>Eucrite</td>\n",
       "      <td>172.00</td>\n",
       "      <td>Found</td>\n",
       "      <td>01/01/1990 12:00:00 AM</td>\n",
       "      <td>29.03700</td>\n",
       "      <td>17.01850</td>\n",
       "      <td>(29.037, 17.0185)</td>\n",
       "    </tr>\n",
       "    <tr>\n",
       "      <th>45714</th>\n",
       "      <td>Zubkovsky</td>\n",
       "      <td>31357</td>\n",
       "      <td>Valid</td>\n",
       "      <td>L6</td>\n",
       "      <td>2167.00</td>\n",
       "      <td>Found</td>\n",
       "      <td>01/01/2003 12:00:00 AM</td>\n",
       "      <td>49.78917</td>\n",
       "      <td>41.50460</td>\n",
       "      <td>(49.78917, 41.5046)</td>\n",
       "    </tr>\n",
       "    <tr>\n",
       "      <th>45715</th>\n",
       "      <td>Zulu Queen</td>\n",
       "      <td>30414</td>\n",
       "      <td>Valid</td>\n",
       "      <td>L3.7</td>\n",
       "      <td>200.00</td>\n",
       "      <td>Found</td>\n",
       "      <td>01/01/1976 12:00:00 AM</td>\n",
       "      <td>33.98333</td>\n",
       "      <td>-115.68333</td>\n",
       "      <td>(33.98333, -115.68333)</td>\n",
       "    </tr>\n",
       "  </tbody>\n",
       "</table>\n",
       "<p>18854 rows × 10 columns</p>\n",
       "</div>"
      ],
      "text/plain": [
       "                        name     id nametype recclass   mass (g)   fall  \\\n",
       "37     Northwest Africa 5815  50693    Valid       L5     256.80  Found   \n",
       "757     Dominion Range 03239  32591    Valid       L6      69.50  Found   \n",
       "804     Dominion Range 03240  32592    Valid      LL5     290.90  Found   \n",
       "1111                   Abajo      4    Valid       H5     331.00  Found   \n",
       "1112         Abar al' Uj 001  51399    Valid     H3.8     194.34  Found   \n",
       "...                      ...    ...      ...      ...        ...    ...   \n",
       "45709             Zhongxiang  30406    Valid     Iron  100000.00  Found   \n",
       "45710             Zillah 001  31355    Valid       L6    1475.00  Found   \n",
       "45711             Zillah 002  31356    Valid  Eucrite     172.00  Found   \n",
       "45714              Zubkovsky  31357    Valid       L6    2167.00  Found   \n",
       "45715             Zulu Queen  30414    Valid     L3.7     200.00  Found   \n",
       "\n",
       "                         year    reclat    reclong             GeoLocation  \n",
       "37                        NaN   0.00000    0.00000              (0.0, 0.0)  \n",
       "757    01/01/2002 12:00:00 AM       NaN        NaN                     NaN  \n",
       "804    01/01/2002 12:00:00 AM       NaN        NaN                     NaN  \n",
       "1111   01/01/1982 12:00:00 AM  26.80000 -105.41667      (26.8, -105.41667)  \n",
       "1112   01/01/2008 12:00:00 AM  22.72192   48.95937    (22.72192, 48.95937)  \n",
       "...                       ...       ...        ...                     ...  \n",
       "45709  01/01/1981 12:00:00 AM  31.20000  112.50000           (31.2, 112.5)  \n",
       "45710  01/01/1990 12:00:00 AM  29.03700   17.01850       (29.037, 17.0185)  \n",
       "45711  01/01/1990 12:00:00 AM  29.03700   17.01850       (29.037, 17.0185)  \n",
       "45714  01/01/2003 12:00:00 AM  49.78917   41.50460     (49.78917, 41.5046)  \n",
       "45715  01/01/1976 12:00:00 AM  33.98333 -115.68333  (33.98333, -115.68333)  \n",
       "\n",
       "[18854 rows x 10 columns]"
      ]
     },
     "execution_count": 31,
     "metadata": {},
     "output_type": "execute_result"
    }
   ],
   "source": [
    "meteorites.query(\"`mass (g)`> 50 and fall == 'Found'\")"
   ]
  },
  {
   "cell_type": "markdown",
   "id": "f3b982f4",
   "metadata": {},
   "source": [
    "*Remarque : la fonction query() supporte à la fois les opérateurs binaires et logiques*"
   ]
  },
  {
   "cell_type": "markdown",
   "id": "768ef1ee",
   "metadata": {},
   "source": [
    "## <font color='green'> Calcul des statistiques synthétiques</font> "
   ]
  },
  {
   "cell_type": "markdown",
   "id": "ba5f1dda",
   "metadata": {},
   "source": [
    "Dans cette section, nous discuterons du nettoyage des données pour une analyse plus significative; En effet, nous pouvons extraire quelques idées intéressantes des données des météorites en calculant des statistiques de synthèse.\n",
    "\n",
    "**Combien de météorites ont été trouvées par rapport aux chutes observées?**"
   ]
  },
  {
   "cell_type": "code",
   "execution_count": 32,
   "id": "f86d5e2f",
   "metadata": {},
   "outputs": [
    {
     "data": {
      "text/plain": [
       "fall\n",
       "Found    44609\n",
       "Fell      1107\n",
       "Name: count, dtype: int64"
      ]
     },
     "execution_count": 32,
     "metadata": {},
     "output_type": "execute_result"
    }
   ],
   "source": [
    "meteorites.fall.value_counts()"
   ]
  },
  {
   "attachments": {},
   "cell_type": "markdown",
   "id": "2a2607a8",
   "metadata": {},
   "source": [
    "*Conseil : Passez dans les paramètres normalize=True pour voir ce résultat en pourcentages. Consultez la [documentation](https://pandas.pydata.org/docs/reference/api/pandas.Series.value_counts.html) pour des fonctionnalités supplémentaires.*"
   ]
  },
  {
   "cell_type": "markdown",
   "id": "69b00c1d",
   "metadata": {},
   "source": [
    "**Quelle est la masse moyenne de la météorite ?**"
   ]
  },
  {
   "cell_type": "code",
   "execution_count": 33,
   "id": "984a3d38",
   "metadata": {},
   "outputs": [
    {
     "data": {
      "text/plain": [
       "np.float64(13278.078548601512)"
      ]
     },
     "execution_count": 33,
     "metadata": {},
     "output_type": "execute_result"
    }
   ],
   "source": [
    "meteorites['mass (g)'].mean()"
   ]
  },
  {
   "cell_type": "markdown",
   "id": "a7c7a80e",
   "metadata": {},
   "source": [
    "**Nous pouvons avoir plus de détail sur masse à travers les quantiles**"
   ]
  },
  {
   "cell_type": "code",
   "execution_count": 34,
   "id": "c9693bb7",
   "metadata": {},
   "outputs": [
    {
     "data": {
      "text/plain": [
       "0.25      7.2\n",
       "0.50     32.6\n",
       "0.75    202.6\n",
       "Name: mass (g), dtype: float64"
      ]
     },
     "execution_count": 34,
     "metadata": {},
     "output_type": "execute_result"
    }
   ],
   "source": [
    "meteorites['mass (g)'].quantile([0.25, 0.5, 0.75])"
   ]
  },
  {
   "cell_type": "markdown",
   "id": "0e8250cf",
   "metadata": {},
   "source": [
    "**Quelle est la masse maximale des météorites?**"
   ]
  },
  {
   "cell_type": "code",
   "execution_count": 35,
   "id": "4d2e29be",
   "metadata": {},
   "outputs": [
    {
     "data": {
      "text/plain": [
       "np.float64(60000000.0)"
      ]
     },
     "execution_count": 35,
     "metadata": {},
     "output_type": "execute_result"
    }
   ],
   "source": [
    "meteorites['mass (g)'].max()"
   ]
  },
  {
   "cell_type": "markdown",
   "id": "e2bf612e",
   "metadata": {},
   "source": [
    "**Nous pouvons obtenir l'index de la ligne de donnée relative à la masse maximale**"
   ]
  },
  {
   "cell_type": "code",
   "execution_count": 36,
   "id": "c9b59f57",
   "metadata": {},
   "outputs": [
    {
     "data": {
      "text/plain": [
       "16392"
      ]
     },
     "execution_count": 36,
     "metadata": {},
     "output_type": "execute_result"
    }
   ],
   "source": [
    "meteorites['mass (g)'].idxmax()"
   ]
  },
  {
   "cell_type": "markdown",
   "id": "1c112495",
   "metadata": {},
   "source": [
    "**Nous pouvons maintenant accéder à cette ligne de la dataset**  "
   ]
  },
  {
   "cell_type": "code",
   "execution_count": 37,
   "id": "3c03d01d",
   "metadata": {},
   "outputs": [
    {
     "data": {
      "text/plain": [
       "name                             Hoba\n",
       "id                              11890\n",
       "nametype                        Valid\n",
       "recclass                    Iron, IVB\n",
       "mass (g)                   60000000.0\n",
       "fall                            Found\n",
       "year           01/01/1920 12:00:00 AM\n",
       "reclat                      -19.58333\n",
       "reclong                      17.91667\n",
       "GeoLocation     (-19.58333, 17.91667)\n",
       "Name: 16392, dtype: object"
      ]
     },
     "execution_count": 37,
     "metadata": {},
     "output_type": "execute_result"
    }
   ],
   "source": [
    "meteorites.loc[meteorites['mass (g)'].idxmax()]"
   ]
  },
  {
   "attachments": {},
   "cell_type": "markdown",
   "id": "a734c7bb",
   "metadata": {},
   "source": [
    "**Combien de types différents de classes de météorites sont représentés dans cet ensemble de données?**"
   ]
  },
  {
   "cell_type": "code",
   "execution_count": 38,
   "id": "bf4cada1",
   "metadata": {},
   "outputs": [
    {
     "data": {
      "text/plain": [
       "466"
      ]
     },
     "execution_count": 38,
     "metadata": {},
     "output_type": "execute_result"
    }
   ],
   "source": [
    "meteorites['recclass'].nunique()"
   ]
  },
  {
   "cell_type": "markdown",
   "id": "8999a423",
   "metadata": {},
   "source": [
    "**Nous pouvons afficher quelques exemples de valeurs**"
   ]
  },
  {
   "cell_type": "code",
   "execution_count": 39,
   "id": "7707ac3c",
   "metadata": {},
   "outputs": [
    {
     "data": {
      "text/plain": [
       "array(['L5', 'H6', 'EH4', 'Acapulcoite'], dtype=object)"
      ]
     },
     "execution_count": 39,
     "metadata": {},
     "output_type": "execute_result"
    }
   ],
   "source": [
    "meteorites['recclass'].unique()[0:4]"
   ]
  },
  {
   "cell_type": "markdown",
   "id": "7c95c847",
   "metadata": {},
   "source": [
    "**Obtenir des statistiques récapitulatives sur l'ensemble des données**"
   ]
  },
  {
   "cell_type": "markdown",
   "id": "e547813a",
   "metadata": {},
   "source": [
    "Nous pouvons obtenir des statistiques de synthèse sur toutes les colonnes à la fois. Par défaut, ce ne sera que des colonnes numériques, mais ici, nous résumerons tout ensemble :"
   ]
  },
  {
   "cell_type": "markdown",
   "id": "e4a1379e",
   "metadata": {},
   "source": [
    " La fonction <font color='green'> describe()</font> renvoie un dataframe donnant des statistiques sur les colonnes (nombres de valeurs, moyenne, écart-type, ...), mais uniquement sur les colonnes numériques"
   ]
  },
  {
   "cell_type": "code",
   "execution_count": 40,
   "id": "a0332321",
   "metadata": {},
   "outputs": [
    {
     "data": {
      "text/html": [
       "<div>\n",
       "<style scoped>\n",
       "    .dataframe tbody tr th:only-of-type {\n",
       "        vertical-align: middle;\n",
       "    }\n",
       "\n",
       "    .dataframe tbody tr th {\n",
       "        vertical-align: top;\n",
       "    }\n",
       "\n",
       "    .dataframe thead th {\n",
       "        text-align: right;\n",
       "    }\n",
       "</style>\n",
       "<table border=\"1\" class=\"dataframe\">\n",
       "  <thead>\n",
       "    <tr style=\"text-align: right;\">\n",
       "      <th></th>\n",
       "      <th>id</th>\n",
       "      <th>mass (g)</th>\n",
       "      <th>reclat</th>\n",
       "      <th>reclong</th>\n",
       "    </tr>\n",
       "  </thead>\n",
       "  <tbody>\n",
       "    <tr>\n",
       "      <th>count</th>\n",
       "      <td>45716.000000</td>\n",
       "      <td>4.558500e+04</td>\n",
       "      <td>38401.000000</td>\n",
       "      <td>38401.000000</td>\n",
       "    </tr>\n",
       "    <tr>\n",
       "      <th>mean</th>\n",
       "      <td>26889.735104</td>\n",
       "      <td>1.327808e+04</td>\n",
       "      <td>-39.122580</td>\n",
       "      <td>61.074319</td>\n",
       "    </tr>\n",
       "    <tr>\n",
       "      <th>std</th>\n",
       "      <td>16860.683030</td>\n",
       "      <td>5.749889e+05</td>\n",
       "      <td>46.378511</td>\n",
       "      <td>80.647298</td>\n",
       "    </tr>\n",
       "    <tr>\n",
       "      <th>min</th>\n",
       "      <td>1.000000</td>\n",
       "      <td>0.000000e+00</td>\n",
       "      <td>-87.366670</td>\n",
       "      <td>-165.433330</td>\n",
       "    </tr>\n",
       "    <tr>\n",
       "      <th>25%</th>\n",
       "      <td>12688.750000</td>\n",
       "      <td>7.200000e+00</td>\n",
       "      <td>-76.714240</td>\n",
       "      <td>0.000000</td>\n",
       "    </tr>\n",
       "    <tr>\n",
       "      <th>50%</th>\n",
       "      <td>24261.500000</td>\n",
       "      <td>3.260000e+01</td>\n",
       "      <td>-71.500000</td>\n",
       "      <td>35.666670</td>\n",
       "    </tr>\n",
       "    <tr>\n",
       "      <th>75%</th>\n",
       "      <td>40656.750000</td>\n",
       "      <td>2.026000e+02</td>\n",
       "      <td>0.000000</td>\n",
       "      <td>157.166670</td>\n",
       "    </tr>\n",
       "    <tr>\n",
       "      <th>max</th>\n",
       "      <td>57458.000000</td>\n",
       "      <td>6.000000e+07</td>\n",
       "      <td>81.166670</td>\n",
       "      <td>354.473330</td>\n",
       "    </tr>\n",
       "  </tbody>\n",
       "</table>\n",
       "</div>"
      ],
      "text/plain": [
       "                 id      mass (g)        reclat       reclong\n",
       "count  45716.000000  4.558500e+04  38401.000000  38401.000000\n",
       "mean   26889.735104  1.327808e+04    -39.122580     61.074319\n",
       "std    16860.683030  5.749889e+05     46.378511     80.647298\n",
       "min        1.000000  0.000000e+00    -87.366670   -165.433330\n",
       "25%    12688.750000  7.200000e+00    -76.714240      0.000000\n",
       "50%    24261.500000  3.260000e+01    -71.500000     35.666670\n",
       "75%    40656.750000  2.026000e+02      0.000000    157.166670\n",
       "max    57458.000000  6.000000e+07     81.166670    354.473330"
      ]
     },
     "execution_count": 40,
     "metadata": {},
     "output_type": "execute_result"
    }
   ],
   "source": [
    "meteorites.describe()"
   ]
  },
  {
   "cell_type": "markdown",
   "id": "fd223a1b",
   "metadata": {},
   "source": [
    "Pour avoir des statistiques récapitulatives sur l'ensemble des données des colonnes, ajouter le paramètre <font color='green'> include='all'</font>"
   ]
  },
  {
   "cell_type": "code",
   "execution_count": 41,
   "id": "8db906a1",
   "metadata": {},
   "outputs": [
    {
     "data": {
      "text/html": [
       "<div>\n",
       "<style scoped>\n",
       "    .dataframe tbody tr th:only-of-type {\n",
       "        vertical-align: middle;\n",
       "    }\n",
       "\n",
       "    .dataframe tbody tr th {\n",
       "        vertical-align: top;\n",
       "    }\n",
       "\n",
       "    .dataframe thead th {\n",
       "        text-align: right;\n",
       "    }\n",
       "</style>\n",
       "<table border=\"1\" class=\"dataframe\">\n",
       "  <thead>\n",
       "    <tr style=\"text-align: right;\">\n",
       "      <th></th>\n",
       "      <th>name</th>\n",
       "      <th>id</th>\n",
       "      <th>nametype</th>\n",
       "      <th>recclass</th>\n",
       "      <th>mass (g)</th>\n",
       "      <th>fall</th>\n",
       "      <th>year</th>\n",
       "      <th>reclat</th>\n",
       "      <th>reclong</th>\n",
       "      <th>GeoLocation</th>\n",
       "    </tr>\n",
       "  </thead>\n",
       "  <tbody>\n",
       "    <tr>\n",
       "      <th>count</th>\n",
       "      <td>45716</td>\n",
       "      <td>45716.000000</td>\n",
       "      <td>45716</td>\n",
       "      <td>45716</td>\n",
       "      <td>4.558500e+04</td>\n",
       "      <td>45716</td>\n",
       "      <td>45425</td>\n",
       "      <td>38401.000000</td>\n",
       "      <td>38401.000000</td>\n",
       "      <td>38401</td>\n",
       "    </tr>\n",
       "    <tr>\n",
       "      <th>unique</th>\n",
       "      <td>45716</td>\n",
       "      <td>NaN</td>\n",
       "      <td>2</td>\n",
       "      <td>466</td>\n",
       "      <td>NaN</td>\n",
       "      <td>2</td>\n",
       "      <td>266</td>\n",
       "      <td>NaN</td>\n",
       "      <td>NaN</td>\n",
       "      <td>17100</td>\n",
       "    </tr>\n",
       "    <tr>\n",
       "      <th>top</th>\n",
       "      <td>Aachen</td>\n",
       "      <td>NaN</td>\n",
       "      <td>Valid</td>\n",
       "      <td>L6</td>\n",
       "      <td>NaN</td>\n",
       "      <td>Found</td>\n",
       "      <td>01/01/2003 12:00:00 AM</td>\n",
       "      <td>NaN</td>\n",
       "      <td>NaN</td>\n",
       "      <td>(0.0, 0.0)</td>\n",
       "    </tr>\n",
       "    <tr>\n",
       "      <th>freq</th>\n",
       "      <td>1</td>\n",
       "      <td>NaN</td>\n",
       "      <td>45641</td>\n",
       "      <td>8285</td>\n",
       "      <td>NaN</td>\n",
       "      <td>44609</td>\n",
       "      <td>3323</td>\n",
       "      <td>NaN</td>\n",
       "      <td>NaN</td>\n",
       "      <td>6214</td>\n",
       "    </tr>\n",
       "    <tr>\n",
       "      <th>mean</th>\n",
       "      <td>NaN</td>\n",
       "      <td>26889.735104</td>\n",
       "      <td>NaN</td>\n",
       "      <td>NaN</td>\n",
       "      <td>1.327808e+04</td>\n",
       "      <td>NaN</td>\n",
       "      <td>NaN</td>\n",
       "      <td>-39.122580</td>\n",
       "      <td>61.074319</td>\n",
       "      <td>NaN</td>\n",
       "    </tr>\n",
       "    <tr>\n",
       "      <th>std</th>\n",
       "      <td>NaN</td>\n",
       "      <td>16860.683030</td>\n",
       "      <td>NaN</td>\n",
       "      <td>NaN</td>\n",
       "      <td>5.749889e+05</td>\n",
       "      <td>NaN</td>\n",
       "      <td>NaN</td>\n",
       "      <td>46.378511</td>\n",
       "      <td>80.647298</td>\n",
       "      <td>NaN</td>\n",
       "    </tr>\n",
       "    <tr>\n",
       "      <th>min</th>\n",
       "      <td>NaN</td>\n",
       "      <td>1.000000</td>\n",
       "      <td>NaN</td>\n",
       "      <td>NaN</td>\n",
       "      <td>0.000000e+00</td>\n",
       "      <td>NaN</td>\n",
       "      <td>NaN</td>\n",
       "      <td>-87.366670</td>\n",
       "      <td>-165.433330</td>\n",
       "      <td>NaN</td>\n",
       "    </tr>\n",
       "    <tr>\n",
       "      <th>25%</th>\n",
       "      <td>NaN</td>\n",
       "      <td>12688.750000</td>\n",
       "      <td>NaN</td>\n",
       "      <td>NaN</td>\n",
       "      <td>7.200000e+00</td>\n",
       "      <td>NaN</td>\n",
       "      <td>NaN</td>\n",
       "      <td>-76.714240</td>\n",
       "      <td>0.000000</td>\n",
       "      <td>NaN</td>\n",
       "    </tr>\n",
       "    <tr>\n",
       "      <th>50%</th>\n",
       "      <td>NaN</td>\n",
       "      <td>24261.500000</td>\n",
       "      <td>NaN</td>\n",
       "      <td>NaN</td>\n",
       "      <td>3.260000e+01</td>\n",
       "      <td>NaN</td>\n",
       "      <td>NaN</td>\n",
       "      <td>-71.500000</td>\n",
       "      <td>35.666670</td>\n",
       "      <td>NaN</td>\n",
       "    </tr>\n",
       "    <tr>\n",
       "      <th>75%</th>\n",
       "      <td>NaN</td>\n",
       "      <td>40656.750000</td>\n",
       "      <td>NaN</td>\n",
       "      <td>NaN</td>\n",
       "      <td>2.026000e+02</td>\n",
       "      <td>NaN</td>\n",
       "      <td>NaN</td>\n",
       "      <td>0.000000</td>\n",
       "      <td>157.166670</td>\n",
       "      <td>NaN</td>\n",
       "    </tr>\n",
       "    <tr>\n",
       "      <th>max</th>\n",
       "      <td>NaN</td>\n",
       "      <td>57458.000000</td>\n",
       "      <td>NaN</td>\n",
       "      <td>NaN</td>\n",
       "      <td>6.000000e+07</td>\n",
       "      <td>NaN</td>\n",
       "      <td>NaN</td>\n",
       "      <td>81.166670</td>\n",
       "      <td>354.473330</td>\n",
       "      <td>NaN</td>\n",
       "    </tr>\n",
       "  </tbody>\n",
       "</table>\n",
       "</div>"
      ],
      "text/plain": [
       "          name            id nametype recclass      mass (g)   fall  \\\n",
       "count    45716  45716.000000    45716    45716  4.558500e+04  45716   \n",
       "unique   45716           NaN        2      466           NaN      2   \n",
       "top     Aachen           NaN    Valid       L6           NaN  Found   \n",
       "freq         1           NaN    45641     8285           NaN  44609   \n",
       "mean       NaN  26889.735104      NaN      NaN  1.327808e+04    NaN   \n",
       "std        NaN  16860.683030      NaN      NaN  5.749889e+05    NaN   \n",
       "min        NaN      1.000000      NaN      NaN  0.000000e+00    NaN   \n",
       "25%        NaN  12688.750000      NaN      NaN  7.200000e+00    NaN   \n",
       "50%        NaN  24261.500000      NaN      NaN  3.260000e+01    NaN   \n",
       "75%        NaN  40656.750000      NaN      NaN  2.026000e+02    NaN   \n",
       "max        NaN  57458.000000      NaN      NaN  6.000000e+07    NaN   \n",
       "\n",
       "                          year        reclat       reclong GeoLocation  \n",
       "count                    45425  38401.000000  38401.000000       38401  \n",
       "unique                     266           NaN           NaN       17100  \n",
       "top     01/01/2003 12:00:00 AM           NaN           NaN  (0.0, 0.0)  \n",
       "freq                      3323           NaN           NaN        6214  \n",
       "mean                       NaN    -39.122580     61.074319         NaN  \n",
       "std                        NaN     46.378511     80.647298         NaN  \n",
       "min                        NaN    -87.366670   -165.433330         NaN  \n",
       "25%                        NaN    -76.714240      0.000000         NaN  \n",
       "50%                        NaN    -71.500000     35.666670         NaN  \n",
       "75%                        NaN      0.000000    157.166670         NaN  \n",
       "max                        NaN     81.166670    354.473330         NaN  "
      ]
     },
     "execution_count": 41,
     "metadata": {},
     "output_type": "execute_result"
    }
   ],
   "source": [
    "meteorites.describe(include='all')"
   ]
  },
  {
   "attachments": {},
   "cell_type": "markdown",
   "id": "89cbcc9d",
   "metadata": {},
   "source": [
    "*Important : les valeurs NaN signifient des données manquantes. Par exemple, la colonne `Fall` contient des chaînes de caractères, donc il n’y a pas de valeur pour la moyenne ; de même, mass (g) est numérique, donc nous n’avons pas de valeurs pour les statistiques catégorielles (unique, top, freq).*"
   ]
  },
  {
   "cell_type": "markdown",
   "id": "6d98426f",
   "metadata": {},
   "source": [
    "Consultez la documentation pour obtenir plus de statistiques descriptives et synhétiques:\n",
    " -  [Series](https://pandas.pydata.org/docs/reference/series.html#computations-descriptive-stats)\n",
    " -  [DataFrame](https://pandas.pydata.org/docs/reference/frame.html#computations-descriptive-stats)"
   ]
  },
  {
   "cell_type": "markdown",
   "id": "4caacc81",
   "metadata": {},
   "source": [
    "## Exercices"
   ]
  },
  {
   "cell_type": "markdown",
   "id": "685268ec",
   "metadata": {},
   "source": [
    "1. Créer un DataFrame en lisant dans le fichier `2019_Yellow_Taxi_Trip_Data.csv` :   \n",
    "Voire la description des données [ici](https://www1.nyc.gov/assets/tlc/downloads/pdf/data_dictionary_trip_records_yellow.pdf)"
   ]
  },
  {
   "cell_type": "code",
   "execution_count": 42,
   "id": "5528eb5f",
   "metadata": {},
   "outputs": [
    {
     "data": {
      "text/html": [
       "<div>\n",
       "<style scoped>\n",
       "    .dataframe tbody tr th:only-of-type {\n",
       "        vertical-align: middle;\n",
       "    }\n",
       "\n",
       "    .dataframe tbody tr th {\n",
       "        vertical-align: top;\n",
       "    }\n",
       "\n",
       "    .dataframe thead th {\n",
       "        text-align: right;\n",
       "    }\n",
       "</style>\n",
       "<table border=\"1\" class=\"dataframe\">\n",
       "  <thead>\n",
       "    <tr style=\"text-align: right;\">\n",
       "      <th></th>\n",
       "      <th>vendorid</th>\n",
       "      <th>tpep_pickup_datetime</th>\n",
       "      <th>tpep_dropoff_datetime</th>\n",
       "      <th>passenger_count</th>\n",
       "      <th>trip_distance</th>\n",
       "      <th>ratecodeid</th>\n",
       "      <th>store_and_fwd_flag</th>\n",
       "      <th>pulocationid</th>\n",
       "      <th>dolocationid</th>\n",
       "      <th>payment_type</th>\n",
       "      <th>fare_amount</th>\n",
       "      <th>extra</th>\n",
       "      <th>mta_tax</th>\n",
       "      <th>tip_amount</th>\n",
       "      <th>tolls_amount</th>\n",
       "      <th>improvement_surcharge</th>\n",
       "      <th>total_amount</th>\n",
       "      <th>congestion_surcharge</th>\n",
       "    </tr>\n",
       "  </thead>\n",
       "  <tbody>\n",
       "    <tr>\n",
       "      <th>0</th>\n",
       "      <td>2</td>\n",
       "      <td>2019-10-23T16:39:42.000</td>\n",
       "      <td>2019-10-23T17:14:10.000</td>\n",
       "      <td>1</td>\n",
       "      <td>7.93</td>\n",
       "      <td>1</td>\n",
       "      <td>N</td>\n",
       "      <td>138</td>\n",
       "      <td>170</td>\n",
       "      <td>1</td>\n",
       "      <td>29.5</td>\n",
       "      <td>1.0</td>\n",
       "      <td>0.5</td>\n",
       "      <td>7.98</td>\n",
       "      <td>6.12</td>\n",
       "      <td>0.3</td>\n",
       "      <td>47.90</td>\n",
       "      <td>2.5</td>\n",
       "    </tr>\n",
       "    <tr>\n",
       "      <th>1</th>\n",
       "      <td>1</td>\n",
       "      <td>2019-10-23T16:32:08.000</td>\n",
       "      <td>2019-10-23T16:45:26.000</td>\n",
       "      <td>1</td>\n",
       "      <td>2.00</td>\n",
       "      <td>1</td>\n",
       "      <td>N</td>\n",
       "      <td>11</td>\n",
       "      <td>26</td>\n",
       "      <td>1</td>\n",
       "      <td>10.5</td>\n",
       "      <td>1.0</td>\n",
       "      <td>0.5</td>\n",
       "      <td>0.00</td>\n",
       "      <td>0.00</td>\n",
       "      <td>0.3</td>\n",
       "      <td>12.30</td>\n",
       "      <td>0.0</td>\n",
       "    </tr>\n",
       "    <tr>\n",
       "      <th>2</th>\n",
       "      <td>2</td>\n",
       "      <td>2019-10-23T16:08:44.000</td>\n",
       "      <td>2019-10-23T16:21:11.000</td>\n",
       "      <td>1</td>\n",
       "      <td>1.36</td>\n",
       "      <td>1</td>\n",
       "      <td>N</td>\n",
       "      <td>163</td>\n",
       "      <td>162</td>\n",
       "      <td>1</td>\n",
       "      <td>9.5</td>\n",
       "      <td>1.0</td>\n",
       "      <td>0.5</td>\n",
       "      <td>2.00</td>\n",
       "      <td>0.00</td>\n",
       "      <td>0.3</td>\n",
       "      <td>15.80</td>\n",
       "      <td>2.5</td>\n",
       "    </tr>\n",
       "    <tr>\n",
       "      <th>3</th>\n",
       "      <td>2</td>\n",
       "      <td>2019-10-23T16:22:44.000</td>\n",
       "      <td>2019-10-23T16:43:26.000</td>\n",
       "      <td>1</td>\n",
       "      <td>1.00</td>\n",
       "      <td>1</td>\n",
       "      <td>N</td>\n",
       "      <td>170</td>\n",
       "      <td>163</td>\n",
       "      <td>1</td>\n",
       "      <td>13.0</td>\n",
       "      <td>1.0</td>\n",
       "      <td>0.5</td>\n",
       "      <td>4.32</td>\n",
       "      <td>0.00</td>\n",
       "      <td>0.3</td>\n",
       "      <td>21.62</td>\n",
       "      <td>2.5</td>\n",
       "    </tr>\n",
       "    <tr>\n",
       "      <th>4</th>\n",
       "      <td>2</td>\n",
       "      <td>2019-10-23T16:45:11.000</td>\n",
       "      <td>2019-10-23T16:58:49.000</td>\n",
       "      <td>1</td>\n",
       "      <td>1.96</td>\n",
       "      <td>1</td>\n",
       "      <td>N</td>\n",
       "      <td>163</td>\n",
       "      <td>236</td>\n",
       "      <td>1</td>\n",
       "      <td>10.5</td>\n",
       "      <td>1.0</td>\n",
       "      <td>0.5</td>\n",
       "      <td>0.50</td>\n",
       "      <td>0.00</td>\n",
       "      <td>0.3</td>\n",
       "      <td>15.30</td>\n",
       "      <td>2.5</td>\n",
       "    </tr>\n",
       "    <tr>\n",
       "      <th>...</th>\n",
       "      <td>...</td>\n",
       "      <td>...</td>\n",
       "      <td>...</td>\n",
       "      <td>...</td>\n",
       "      <td>...</td>\n",
       "      <td>...</td>\n",
       "      <td>...</td>\n",
       "      <td>...</td>\n",
       "      <td>...</td>\n",
       "      <td>...</td>\n",
       "      <td>...</td>\n",
       "      <td>...</td>\n",
       "      <td>...</td>\n",
       "      <td>...</td>\n",
       "      <td>...</td>\n",
       "      <td>...</td>\n",
       "      <td>...</td>\n",
       "      <td>...</td>\n",
       "    </tr>\n",
       "    <tr>\n",
       "      <th>9995</th>\n",
       "      <td>1</td>\n",
       "      <td>2019-10-23T17:39:59.000</td>\n",
       "      <td>2019-10-23T17:49:26.000</td>\n",
       "      <td>2</td>\n",
       "      <td>1.30</td>\n",
       "      <td>1</td>\n",
       "      <td>N</td>\n",
       "      <td>238</td>\n",
       "      <td>239</td>\n",
       "      <td>1</td>\n",
       "      <td>8.0</td>\n",
       "      <td>3.5</td>\n",
       "      <td>0.5</td>\n",
       "      <td>2.46</td>\n",
       "      <td>0.00</td>\n",
       "      <td>0.3</td>\n",
       "      <td>14.76</td>\n",
       "      <td>2.5</td>\n",
       "    </tr>\n",
       "    <tr>\n",
       "      <th>9996</th>\n",
       "      <td>1</td>\n",
       "      <td>2019-10-23T17:53:02.000</td>\n",
       "      <td>2019-10-23T18:00:45.000</td>\n",
       "      <td>1</td>\n",
       "      <td>1.40</td>\n",
       "      <td>1</td>\n",
       "      <td>N</td>\n",
       "      <td>239</td>\n",
       "      <td>166</td>\n",
       "      <td>2</td>\n",
       "      <td>8.0</td>\n",
       "      <td>3.5</td>\n",
       "      <td>0.5</td>\n",
       "      <td>0.00</td>\n",
       "      <td>0.00</td>\n",
       "      <td>0.3</td>\n",
       "      <td>12.30</td>\n",
       "      <td>2.5</td>\n",
       "    </tr>\n",
       "    <tr>\n",
       "      <th>9997</th>\n",
       "      <td>1</td>\n",
       "      <td>2019-10-23T17:07:16.000</td>\n",
       "      <td>2019-10-23T17:11:35.000</td>\n",
       "      <td>1</td>\n",
       "      <td>0.70</td>\n",
       "      <td>1</td>\n",
       "      <td>N</td>\n",
       "      <td>166</td>\n",
       "      <td>152</td>\n",
       "      <td>2</td>\n",
       "      <td>5.0</td>\n",
       "      <td>1.0</td>\n",
       "      <td>0.5</td>\n",
       "      <td>0.00</td>\n",
       "      <td>0.00</td>\n",
       "      <td>0.3</td>\n",
       "      <td>6.80</td>\n",
       "      <td>0.0</td>\n",
       "    </tr>\n",
       "    <tr>\n",
       "      <th>9998</th>\n",
       "      <td>1</td>\n",
       "      <td>2019-10-23T17:38:26.000</td>\n",
       "      <td>2019-10-23T17:49:28.000</td>\n",
       "      <td>2</td>\n",
       "      <td>2.50</td>\n",
       "      <td>1</td>\n",
       "      <td>N</td>\n",
       "      <td>151</td>\n",
       "      <td>42</td>\n",
       "      <td>1</td>\n",
       "      <td>10.0</td>\n",
       "      <td>1.0</td>\n",
       "      <td>0.5</td>\n",
       "      <td>0.00</td>\n",
       "      <td>0.00</td>\n",
       "      <td>0.3</td>\n",
       "      <td>11.80</td>\n",
       "      <td>0.0</td>\n",
       "    </tr>\n",
       "    <tr>\n",
       "      <th>9999</th>\n",
       "      <td>1</td>\n",
       "      <td>2019-10-23T17:22:14.000</td>\n",
       "      <td>2019-10-23T17:52:09.000</td>\n",
       "      <td>1</td>\n",
       "      <td>3.00</td>\n",
       "      <td>1</td>\n",
       "      <td>N</td>\n",
       "      <td>237</td>\n",
       "      <td>68</td>\n",
       "      <td>1</td>\n",
       "      <td>19.0</td>\n",
       "      <td>3.5</td>\n",
       "      <td>0.5</td>\n",
       "      <td>2.50</td>\n",
       "      <td>0.00</td>\n",
       "      <td>0.3</td>\n",
       "      <td>25.80</td>\n",
       "      <td>2.5</td>\n",
       "    </tr>\n",
       "  </tbody>\n",
       "</table>\n",
       "<p>10000 rows × 18 columns</p>\n",
       "</div>"
      ],
      "text/plain": [
       "      vendorid     tpep_pickup_datetime    tpep_dropoff_datetime  \\\n",
       "0            2  2019-10-23T16:39:42.000  2019-10-23T17:14:10.000   \n",
       "1            1  2019-10-23T16:32:08.000  2019-10-23T16:45:26.000   \n",
       "2            2  2019-10-23T16:08:44.000  2019-10-23T16:21:11.000   \n",
       "3            2  2019-10-23T16:22:44.000  2019-10-23T16:43:26.000   \n",
       "4            2  2019-10-23T16:45:11.000  2019-10-23T16:58:49.000   \n",
       "...        ...                      ...                      ...   \n",
       "9995         1  2019-10-23T17:39:59.000  2019-10-23T17:49:26.000   \n",
       "9996         1  2019-10-23T17:53:02.000  2019-10-23T18:00:45.000   \n",
       "9997         1  2019-10-23T17:07:16.000  2019-10-23T17:11:35.000   \n",
       "9998         1  2019-10-23T17:38:26.000  2019-10-23T17:49:28.000   \n",
       "9999         1  2019-10-23T17:22:14.000  2019-10-23T17:52:09.000   \n",
       "\n",
       "      passenger_count  trip_distance  ratecodeid store_and_fwd_flag  \\\n",
       "0                   1           7.93           1                  N   \n",
       "1                   1           2.00           1                  N   \n",
       "2                   1           1.36           1                  N   \n",
       "3                   1           1.00           1                  N   \n",
       "4                   1           1.96           1                  N   \n",
       "...               ...            ...         ...                ...   \n",
       "9995                2           1.30           1                  N   \n",
       "9996                1           1.40           1                  N   \n",
       "9997                1           0.70           1                  N   \n",
       "9998                2           2.50           1                  N   \n",
       "9999                1           3.00           1                  N   \n",
       "\n",
       "      pulocationid  dolocationid  payment_type  fare_amount  extra  mta_tax  \\\n",
       "0              138           170             1         29.5    1.0      0.5   \n",
       "1               11            26             1         10.5    1.0      0.5   \n",
       "2              163           162             1          9.5    1.0      0.5   \n",
       "3              170           163             1         13.0    1.0      0.5   \n",
       "4              163           236             1         10.5    1.0      0.5   \n",
       "...            ...           ...           ...          ...    ...      ...   \n",
       "9995           238           239             1          8.0    3.5      0.5   \n",
       "9996           239           166             2          8.0    3.5      0.5   \n",
       "9997           166           152             2          5.0    1.0      0.5   \n",
       "9998           151            42             1         10.0    1.0      0.5   \n",
       "9999           237            68             1         19.0    3.5      0.5   \n",
       "\n",
       "      tip_amount  tolls_amount  improvement_surcharge  total_amount  \\\n",
       "0           7.98          6.12                    0.3         47.90   \n",
       "1           0.00          0.00                    0.3         12.30   \n",
       "2           2.00          0.00                    0.3         15.80   \n",
       "3           4.32          0.00                    0.3         21.62   \n",
       "4           0.50          0.00                    0.3         15.30   \n",
       "...          ...           ...                    ...           ...   \n",
       "9995        2.46          0.00                    0.3         14.76   \n",
       "9996        0.00          0.00                    0.3         12.30   \n",
       "9997        0.00          0.00                    0.3          6.80   \n",
       "9998        0.00          0.00                    0.3         11.80   \n",
       "9999        2.50          0.00                    0.3         25.80   \n",
       "\n",
       "      congestion_surcharge  \n",
       "0                      2.5  \n",
       "1                      0.0  \n",
       "2                      2.5  \n",
       "3                      2.5  \n",
       "4                      2.5  \n",
       "...                    ...  \n",
       "9995                   2.5  \n",
       "9996                   2.5  \n",
       "9997                   0.0  \n",
       "9998                   0.0  \n",
       "9999                   2.5  \n",
       "\n",
       "[10000 rows x 18 columns]"
      ]
     },
     "execution_count": 42,
     "metadata": {},
     "output_type": "execute_result"
    }
   ],
   "source": [
    "df = pd.read_csv('./datasets/2019_Yellow_Taxi_Trip_Data.csv')\n",
    "df"
   ]
  },
  {
   "cell_type": "markdown",
   "id": "ecc88da0",
   "metadata": {},
   "source": [
    " \n",
    "2. Afficher les dimensions (nombre de lignes et nombre de colonnes) dans le jeu de données :\n",
    " "
   ]
  },
  {
   "cell_type": "code",
   "execution_count": 47,
   "id": "78385dba",
   "metadata": {},
   "outputs": [
    {
     "data": {
      "text/plain": [
       "(10000, 18)"
      ]
     },
     "execution_count": 47,
     "metadata": {},
     "output_type": "execute_result"
    }
   ],
   "source": [
    "df.shape"
   ]
  },
  {
   "cell_type": "markdown",
   "id": "96688079",
   "metadata": {},
   "source": [
    "3. Calculer des statistiques récapitulatives pour les colonnes `fare_amount`, `tip_amount`, `tolls_amount` et `total_amount` :\n"
   ]
  },
  {
   "cell_type": "code",
   "execution_count": 49,
   "id": "b9eb305c",
   "metadata": {},
   "outputs": [
    {
     "data": {
      "text/html": [
       "<div>\n",
       "<style scoped>\n",
       "    .dataframe tbody tr th:only-of-type {\n",
       "        vertical-align: middle;\n",
       "    }\n",
       "\n",
       "    .dataframe tbody tr th {\n",
       "        vertical-align: top;\n",
       "    }\n",
       "\n",
       "    .dataframe thead th {\n",
       "        text-align: right;\n",
       "    }\n",
       "</style>\n",
       "<table border=\"1\" class=\"dataframe\">\n",
       "  <thead>\n",
       "    <tr style=\"text-align: right;\">\n",
       "      <th></th>\n",
       "      <th>fare_amount</th>\n",
       "      <th>tip_amount</th>\n",
       "      <th>tolls_amount</th>\n",
       "      <th>total_amount</th>\n",
       "    </tr>\n",
       "  </thead>\n",
       "  <tbody>\n",
       "    <tr>\n",
       "      <th>count</th>\n",
       "      <td>10000.000000</td>\n",
       "      <td>10000.000000</td>\n",
       "      <td>10000.000000</td>\n",
       "      <td>10000.000000</td>\n",
       "    </tr>\n",
       "    <tr>\n",
       "      <th>mean</th>\n",
       "      <td>15.106313</td>\n",
       "      <td>2.634494</td>\n",
       "      <td>0.623447</td>\n",
       "      <td>22.564659</td>\n",
       "    </tr>\n",
       "    <tr>\n",
       "      <th>std</th>\n",
       "      <td>13.954762</td>\n",
       "      <td>3.409800</td>\n",
       "      <td>6.437507</td>\n",
       "      <td>19.209255</td>\n",
       "    </tr>\n",
       "    <tr>\n",
       "      <th>min</th>\n",
       "      <td>-52.000000</td>\n",
       "      <td>0.000000</td>\n",
       "      <td>-6.120000</td>\n",
       "      <td>-65.920000</td>\n",
       "    </tr>\n",
       "    <tr>\n",
       "      <th>25%</th>\n",
       "      <td>7.000000</td>\n",
       "      <td>0.000000</td>\n",
       "      <td>0.000000</td>\n",
       "      <td>12.375000</td>\n",
       "    </tr>\n",
       "    <tr>\n",
       "      <th>50%</th>\n",
       "      <td>10.000000</td>\n",
       "      <td>2.000000</td>\n",
       "      <td>0.000000</td>\n",
       "      <td>16.300000</td>\n",
       "    </tr>\n",
       "    <tr>\n",
       "      <th>75%</th>\n",
       "      <td>16.000000</td>\n",
       "      <td>3.250000</td>\n",
       "      <td>0.000000</td>\n",
       "      <td>22.880000</td>\n",
       "    </tr>\n",
       "    <tr>\n",
       "      <th>max</th>\n",
       "      <td>176.000000</td>\n",
       "      <td>43.000000</td>\n",
       "      <td>612.000000</td>\n",
       "      <td>671.800000</td>\n",
       "    </tr>\n",
       "  </tbody>\n",
       "</table>\n",
       "</div>"
      ],
      "text/plain": [
       "        fare_amount    tip_amount  tolls_amount  total_amount\n",
       "count  10000.000000  10000.000000  10000.000000  10000.000000\n",
       "mean      15.106313      2.634494      0.623447     22.564659\n",
       "std       13.954762      3.409800      6.437507     19.209255\n",
       "min      -52.000000      0.000000     -6.120000    -65.920000\n",
       "25%        7.000000      0.000000      0.000000     12.375000\n",
       "50%       10.000000      2.000000      0.000000     16.300000\n",
       "75%       16.000000      3.250000      0.000000     22.880000\n",
       "max      176.000000     43.000000    612.000000    671.800000"
      ]
     },
     "execution_count": 49,
     "metadata": {},
     "output_type": "execute_result"
    }
   ],
   "source": [
    "df[[\"fare_amount\", \"tip_amount\", \"tolls_amount\", \"total_amount\"]].describe()"
   ]
  },
  {
   "cell_type": "markdown",
   "id": "1754b7b5",
   "metadata": {},
   "source": [
    "4. Calculer les fréquences et les pourcentage des différentes valeurs prises par la colonne `payment_type`"
   ]
  },
  {
   "cell_type": "code",
   "execution_count": 54,
   "id": "29656367",
   "metadata": {},
   "outputs": [
    {
     "name": "stdout",
     "output_type": "stream",
     "text": [
      "payment_type\n",
      "1    0.7103\n",
      "2    0.2803\n",
      "3    0.0075\n",
      "4    0.0019\n",
      "Name: proportion, dtype: float64\n"
     ]
    },
    {
     "data": {
      "text/plain": [
       "payment_type\n",
       "1    71.03\n",
       "2    28.03\n",
       "3     0.75\n",
       "4     0.19\n",
       "Name: proportion, dtype: float64"
      ]
     },
     "execution_count": 54,
     "metadata": {},
     "output_type": "execute_result"
    }
   ],
   "source": [
    "print(df[\"payment_type\"].value_counts(normalize=True))\n",
    "\n",
    "df[\"payment_type\"].value_counts(normalize=True) * 100"
   ]
  },
  {
   "cell_type": "markdown",
   "id": "d3df0fb4",
   "metadata": {},
   "source": [
    "5. Isoler et afficher les valeurs de `fare_amount` , `tip_amount`, `tolls_amount`, et `total_amount` pour le plus long voyage (`trip_distance`) :"
   ]
  },
  {
   "cell_type": "code",
   "execution_count": 56,
   "id": "d6020f0c",
   "metadata": {},
   "outputs": [
    {
     "data": {
      "text/plain": [
       "fare_amount      176.0\n",
       "tip_amount       18.29\n",
       "tolls_amount      6.12\n",
       "total_amount    201.21\n",
       "Name: 8338, dtype: object"
      ]
     },
     "execution_count": 56,
     "metadata": {},
     "output_type": "execute_result"
    }
   ],
   "source": [
    "df.loc[df.trip_distance.idxmax(), [\"fare_amount\", \"tip_amount\", \"tolls_amount\", \"total_amount\"]]"
   ]
  }
 ],
 "metadata": {
  "kernelspec": {
   "display_name": ".venv",
   "language": "python",
   "name": "python3"
  },
  "language_info": {
   "codemirror_mode": {
    "name": "ipython",
    "version": 3
   },
   "file_extension": ".py",
   "mimetype": "text/x-python",
   "name": "python",
   "nbconvert_exporter": "python",
   "pygments_lexer": "ipython3",
   "version": "3.12.3"
  }
 },
 "nbformat": 4,
 "nbformat_minor": 5
}
